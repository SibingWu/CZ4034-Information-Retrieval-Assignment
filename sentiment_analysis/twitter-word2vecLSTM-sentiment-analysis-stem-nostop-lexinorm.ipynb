{
 "cells": [
  {
   "cell_type": "markdown",
   "metadata": {
    "_uuid": "92b885dd147dac19bd0a33db3cd0da100bd5bc23"
   },
   "source": [
    "# Twitter Sentiment Analysis"
   ]
  },
  {
   "cell_type": "code",
   "execution_count": 1,
   "metadata": {
    "_uuid": "70282bce8b42a51e4d44f2c7d85c4ca9567b0fd4"
   },
   "outputs": [
    {
     "name": "stdout",
     "output_type": "stream",
     "text": [
      "Collecting gensim\n",
      "  Downloading gensim-4.1.2-cp39-cp39-win_amd64.whl (24.0 MB)\n",
      "     ---------------------------------------- 24.0/24.0 MB 5.2 MB/s eta 0:00:00\n",
      "Requirement already satisfied: numpy>=1.17.0 in c:\\users\\16680\\appdata\\local\\programs\\python\\python39\\lib\\site-packages (from gensim) (1.20.1)\n",
      "Requirement already satisfied: scipy>=0.18.1 in c:\\users\\16680\\appdata\\local\\programs\\python\\python39\\lib\\site-packages (from gensim) (1.6.1)\n",
      "Collecting smart-open>=1.8.1\n",
      "  Downloading smart_open-5.2.1-py3-none-any.whl (58 kB)\n",
      "     ---------------------------------------- 58.6/58.6 KB ? eta 0:00:00\n",
      "Collecting Cython==0.29.23\n",
      "  Downloading Cython-0.29.23-cp39-cp39-win_amd64.whl (1.7 MB)\n",
      "     ---------------------------------------- 1.7/1.7 MB 9.6 MB/s eta 0:00:00\n",
      "Installing collected packages: smart-open, Cython, gensim\n",
      "Successfully installed Cython-0.29.23 gensim-4.1.2 smart-open-5.2.1\n",
      "Collecting keras\n",
      "  Downloading keras-2.8.0-py2.py3-none-any.whl (1.4 MB)\n",
      "     ---------------------------------------- 1.4/1.4 MB 10.9 MB/s eta 0:00:00\n",
      "Installing collected packages: keras\n",
      "Successfully installed keras-2.8.0\n",
      "Requirement already satisfied: pandas in c:\\users\\16680\\appdata\\local\\programs\\python\\python39\\lib\\site-packages (1.3.3)\n",
      "Collecting pandas\n",
      "  Downloading pandas-1.4.1-cp39-cp39-win_amd64.whl (10.5 MB)\n",
      "     --------------------------------------- 10.5/10.5 MB 10.2 MB/s eta 0:00:00\n",
      "Requirement already satisfied: numpy>=1.18.5 in c:\\users\\16680\\appdata\\local\\programs\\python\\python39\\lib\\site-packages (from pandas) (1.20.1)\n",
      "Requirement already satisfied: pytz>=2020.1 in c:\\users\\16680\\appdata\\local\\programs\\python\\python39\\lib\\site-packages (from pandas) (2021.1)\n",
      "Requirement already satisfied: python-dateutil>=2.8.1 in c:\\users\\16680\\appdata\\local\\programs\\python\\python39\\lib\\site-packages (from pandas) (2.8.1)\n",
      "Requirement already satisfied: six>=1.5 in c:\\users\\16680\\appdata\\roaming\\python\\python39\\site-packages (from python-dateutil>=2.8.1->pandas) (1.15.0)\n",
      "Installing collected packages: pandas\n",
      "  Attempting uninstall: pandas\n",
      "    Found existing installation: pandas 1.3.3\n",
      "    Uninstalling pandas-1.3.3:\n",
      "      Successfully uninstalled pandas-1.3.3\n"
     ]
    },
    {
     "name": "stderr",
     "output_type": "stream",
     "text": [
      "ERROR: Could not install packages due to an OSError: [WinError 5] 拒绝访问。: 'C:\\\\Users\\\\16680\\\\AppData\\\\Local\\\\Programs\\\\Python\\\\Python39\\\\Lib\\\\site-packages\\\\~andas\\\\_libs\\\\algos.cp39-win_amd64.pyd'\n",
      "Consider using the `--user` option or check the permissions.\n",
      "\n"
     ]
    }
   ],
   "source": [
    "#Note: downloaded code\n",
    "!pip install gensim --upgrade\n",
    "!pip install keras --upgrade\n",
    "!pip install pandas --upgrade"
   ]
  },
  {
   "cell_type": "code",
   "execution_count": 3,
   "metadata": {},
   "outputs": [
    {
     "name": "stdout",
     "output_type": "stream",
     "text": [
      "Collecting scikit-learn\n",
      "  Downloading scikit_learn-1.0.2-cp39-cp39-win_amd64.whl (7.2 MB)\n",
      "     ---------------------------------------- 7.2/7.2 MB 10.0 MB/s eta 0:00:00\n",
      "Requirement already satisfied: scipy in c:\\users\\16680\\appdata\\local\\programs\\python\\python39\\lib\\site-packages (1.6.1)\n",
      "Collecting scipy\n",
      "  Downloading scipy-1.8.0-cp39-cp39-win_amd64.whl (36.9 MB)\n",
      "     ---------------------------------------- 36.9/36.9 MB 9.0 MB/s eta 0:00:00\n",
      "Requirement already satisfied: matplotlib in c:\\users\\16680\\appdata\\local\\programs\\python\\python39\\lib\\site-packages (3.3.4)\n",
      "Collecting matplotlib\n",
      "  Downloading matplotlib-3.5.1-cp39-cp39-win_amd64.whl (7.2 MB)\n",
      "     ---------------------------------------- 7.2/7.2 MB 10.0 MB/s eta 0:00:00\n",
      "Collecting joblib>=0.11\n",
      "  Downloading joblib-1.1.0-py2.py3-none-any.whl (306 kB)\n",
      "     ------------------------------------- 307.0/307.0 KB 19.8 MB/s eta 0:00:00\n",
      "Collecting threadpoolctl>=2.0.0\n",
      "  Downloading threadpoolctl-3.1.0-py3-none-any.whl (14 kB)\n",
      "Requirement already satisfied: numpy>=1.14.6 in c:\\users\\16680\\appdata\\local\\programs\\python\\python39\\lib\\site-packages (from scikit-learn) (1.20.1)\n",
      "Requirement already satisfied: packaging>=20.0 in c:\\users\\16680\\appdata\\local\\programs\\python\\python39\\lib\\site-packages (from matplotlib) (20.9)\n",
      "Requirement already satisfied: python-dateutil>=2.7 in c:\\users\\16680\\appdata\\local\\programs\\python\\python39\\lib\\site-packages (from matplotlib) (2.8.1)\n",
      "Requirement already satisfied: cycler>=0.10 in c:\\users\\16680\\appdata\\local\\programs\\python\\python39\\lib\\site-packages (from matplotlib) (0.10.0)\n",
      "Requirement already satisfied: kiwisolver>=1.0.1 in c:\\users\\16680\\appdata\\local\\programs\\python\\python39\\lib\\site-packages (from matplotlib) (1.3.1)\n",
      "Requirement already satisfied: pyparsing>=2.2.1 in c:\\users\\16680\\appdata\\local\\programs\\python\\python39\\lib\\site-packages (from matplotlib) (2.4.7)\n",
      "Requirement already satisfied: pillow>=6.2.0 in c:\\users\\16680\\appdata\\local\\programs\\python\\python39\\lib\\site-packages (from matplotlib) (8.1.2)\n",
      "Collecting fonttools>=4.22.0\n",
      "  Downloading fonttools-4.31.2-py3-none-any.whl (899 kB)\n",
      "     ------------------------------------- 899.5/899.5 KB 11.4 MB/s eta 0:00:00\n",
      "Requirement already satisfied: six in c:\\users\\16680\\appdata\\roaming\\python\\python39\\site-packages (from cycler>=0.10->matplotlib) (1.15.0)\n",
      "Installing collected packages: threadpoolctl, scipy, joblib, fonttools, scikit-learn, matplotlib\n",
      "  Attempting uninstall: scipy\n",
      "    Found existing installation: scipy 1.6.1\n",
      "    Uninstalling scipy-1.6.1:\n",
      "      Successfully uninstalled scipy-1.6.1\n",
      "  Attempting uninstall: matplotlib\n",
      "    Found existing installation: matplotlib 3.3.4\n",
      "    Uninstalling matplotlib-3.3.4:\n",
      "      Successfully uninstalled matplotlib-3.3.4\n"
     ]
    },
    {
     "name": "stderr",
     "output_type": "stream",
     "text": [
      "ERROR: Could not install packages due to an OSError: [WinError 5] 拒绝访问。: 'C:\\\\Users\\\\16680\\\\AppData\\\\Local\\\\Programs\\\\Python\\\\Python39\\\\Lib\\\\site-packages\\\\~atplotlib\\\\backends\\\\_backend_agg.cp39-win_amd64.pyd'\n",
      "Consider using the `--user` option or check the permissions.\n",
      "\n"
     ]
    }
   ],
   "source": [
    "!pip3 install -U scikit-learn scipy matplotlib"
   ]
  },
  {
   "cell_type": "code",
   "execution_count": 5,
   "metadata": {},
   "outputs": [
    {
     "name": "stdout",
     "output_type": "stream",
     "text": [
      "Collecting tensorflow\n",
      "  Downloading tensorflow-2.8.0-cp39-cp39-win_amd64.whl (438.0 MB)\n",
      "     -------------------------------------- 438.0/438.0 MB 5.9 MB/s eta 0:00:00\n",
      "Collecting tf-estimator-nightly==2.8.0.dev2021122109\n",
      "  Downloading tf_estimator_nightly-2.8.0.dev2021122109-py2.py3-none-any.whl (462 kB)\n",
      "     -------------------------------------- 462.5/462.5 KB 9.8 MB/s eta 0:00:00\n",
      "Collecting gast>=0.2.1\n",
      "  Downloading gast-0.5.3-py3-none-any.whl (19 kB)\n",
      "Collecting keras-preprocessing>=1.1.1\n",
      "  Downloading Keras_Preprocessing-1.1.2-py2.py3-none-any.whl (42 kB)\n",
      "     ---------------------------------------- 42.6/42.6 KB ? eta 0:00:00\n",
      "Requirement already satisfied: keras<2.9,>=2.8.0rc0 in c:\\users\\16680\\appdata\\local\\programs\\python\\python39\\lib\\site-packages (from tensorflow) (2.8.0)\n",
      "Collecting astunparse>=1.6.0\n",
      "  Downloading astunparse-1.6.3-py2.py3-none-any.whl (12 kB)\n",
      "Requirement already satisfied: wrapt>=1.11.0 in c:\\users\\16680\\appdata\\roaming\\python\\python39\\site-packages (from tensorflow) (1.12.1)\n",
      "Collecting tensorflow-io-gcs-filesystem>=0.23.1\n",
      "  Downloading tensorflow_io_gcs_filesystem-0.24.0-cp39-cp39-win_amd64.whl (1.5 MB)\n",
      "     ---------------------------------------- 1.5/1.5 MB 10.2 MB/s eta 0:00:00\n",
      "Requirement already satisfied: setuptools in c:\\users\\16680\\appdata\\local\\programs\\python\\python39\\lib\\site-packages (from tensorflow) (57.4.0)\n",
      "Collecting tensorboard<2.9,>=2.8\n",
      "  Downloading tensorboard-2.8.0-py3-none-any.whl (5.8 MB)\n",
      "     ---------------------------------------- 5.8/5.8 MB 11.5 MB/s eta 0:00:00\n",
      "Collecting google-pasta>=0.1.1\n",
      "  Downloading google_pasta-0.2.0-py3-none-any.whl (57 kB)\n",
      "     ---------------------------------------- 57.5/57.5 KB 3.1 MB/s eta 0:00:00\n",
      "Collecting libclang>=9.0.1\n",
      "  Downloading libclang-13.0.0-py2.py3-none-win_amd64.whl (13.9 MB)\n",
      "     ---------------------------------------- 13.9/13.9 MB 9.2 MB/s eta 0:00:00\n",
      "Collecting grpcio<2.0,>=1.24.3\n",
      "  Downloading grpcio-1.44.0-cp39-cp39-win_amd64.whl (3.4 MB)\n",
      "     ---------------------------------------- 3.4/3.4 MB 11.6 MB/s eta 0:00:00\n",
      "Collecting termcolor>=1.1.0\n",
      "  Downloading termcolor-1.1.0.tar.gz (3.9 kB)\n",
      "  Preparing metadata (setup.py): started\n",
      "  Preparing metadata (setup.py): finished with status 'done'\n",
      "Collecting typing-extensions>=3.6.6\n",
      "  Downloading typing_extensions-4.1.1-py3-none-any.whl (26 kB)\n",
      "Collecting flatbuffers>=1.12\n",
      "  Downloading flatbuffers-2.0-py2.py3-none-any.whl (26 kB)\n",
      "Collecting protobuf>=3.9.2\n",
      "  Downloading protobuf-3.19.4-cp39-cp39-win_amd64.whl (895 kB)\n",
      "     ------------------------------------- 895.7/895.7 KB 11.4 MB/s eta 0:00:00\n",
      "Collecting absl-py>=0.4.0\n",
      "  Downloading absl_py-1.0.0-py3-none-any.whl (126 kB)\n",
      "     -------------------------------------- 126.7/126.7 KB 7.3 MB/s eta 0:00:00\n",
      "Requirement already satisfied: six>=1.12.0 in c:\\users\\16680\\appdata\\roaming\\python\\python39\\site-packages (from tensorflow) (1.15.0)\n",
      "Collecting h5py>=2.9.0\n",
      "  Downloading h5py-3.6.0-cp39-cp39-win_amd64.whl (2.8 MB)\n",
      "     ---------------------------------------- 2.8/2.8 MB 9.8 MB/s eta 0:00:00\n",
      "Collecting opt-einsum>=2.3.2\n",
      "  Downloading opt_einsum-3.3.0-py3-none-any.whl (65 kB)\n",
      "     ---------------------------------------- 65.5/65.5 KB ? eta 0:00:00\n",
      "Requirement already satisfied: numpy>=1.20 in c:\\users\\16680\\appdata\\local\\programs\\python\\python39\\lib\\site-packages (from tensorflow) (1.20.1)\n",
      "Collecting wheel<1.0,>=0.23.0\n",
      "  Downloading wheel-0.37.1-py2.py3-none-any.whl (35 kB)\n",
      "Collecting google-auth-oauthlib<0.5,>=0.4.1\n",
      "  Downloading google_auth_oauthlib-0.4.6-py2.py3-none-any.whl (18 kB)\n",
      "Collecting werkzeug>=0.11.15\n",
      "  Downloading Werkzeug-2.1.0-py3-none-any.whl (224 kB)\n",
      "     ------------------------------------- 224.6/224.6 KB 13.4 MB/s eta 0:00:00\n",
      "Collecting google-auth<3,>=1.6.3\n",
      "  Downloading google_auth-2.6.2-py2.py3-none-any.whl (156 kB)\n",
      "     ---------------------------------------- 156.5/156.5 KB ? eta 0:00:00\n",
      "Collecting tensorboard-plugin-wit>=1.6.0\n",
      "  Downloading tensorboard_plugin_wit-1.8.1-py3-none-any.whl (781 kB)\n",
      "     ------------------------------------- 781.3/781.3 KB 12.4 MB/s eta 0:00:00\n",
      "Collecting tensorboard-data-server<0.7.0,>=0.6.0\n",
      "  Downloading tensorboard_data_server-0.6.1-py3-none-any.whl (2.4 kB)\n",
      "Collecting markdown>=2.6.8\n",
      "  Downloading Markdown-3.3.6-py3-none-any.whl (97 kB)\n",
      "     ---------------------------------------- 97.8/97.8 KB 5.5 MB/s eta 0:00:00\n",
      "Requirement already satisfied: requests<3,>=2.21.0 in c:\\users\\16680\\appdata\\local\\programs\\python\\python39\\lib\\site-packages (from tensorboard<2.9,>=2.8->tensorflow) (2.25.1)\n",
      "Collecting pyasn1-modules>=0.2.1\n",
      "  Downloading pyasn1_modules-0.2.8-py2.py3-none-any.whl (155 kB)\n",
      "     -------------------------------------- 155.3/155.3 KB 9.1 MB/s eta 0:00:00\n",
      "Collecting rsa<5,>=3.1.4\n",
      "  Downloading rsa-4.8-py3-none-any.whl (39 kB)\n",
      "Requirement already satisfied: cachetools<6.0,>=2.0.0 in c:\\users\\16680\\appdata\\local\\programs\\python\\python39\\lib\\site-packages (from google-auth<3,>=1.6.3->tensorboard<2.9,>=2.8->tensorflow) (4.2.2)\n",
      "Collecting requests-oauthlib>=0.7.0\n",
      "  Downloading requests_oauthlib-1.3.1-py2.py3-none-any.whl (23 kB)\n",
      "Collecting importlib-metadata>=4.4\n",
      "  Downloading importlib_metadata-4.11.3-py3-none-any.whl (18 kB)\n",
      "Requirement already satisfied: certifi>=2017.4.17 in c:\\users\\16680\\appdata\\local\\programs\\python\\python39\\lib\\site-packages (from requests<3,>=2.21.0->tensorboard<2.9,>=2.8->tensorflow) (2020.12.5)\n",
      "Requirement already satisfied: chardet<5,>=3.0.2 in c:\\users\\16680\\appdata\\local\\programs\\python\\python39\\lib\\site-packages (from requests<3,>=2.21.0->tensorboard<2.9,>=2.8->tensorflow) (4.0.0)\n",
      "Requirement already satisfied: urllib3<1.27,>=1.21.1 in c:\\users\\16680\\appdata\\local\\programs\\python\\python39\\lib\\site-packages (from requests<3,>=2.21.0->tensorboard<2.9,>=2.8->tensorflow) (1.26.4)\n",
      "Requirement already satisfied: idna<3,>=2.5 in c:\\users\\16680\\appdata\\local\\programs\\python\\python39\\lib\\site-packages (from requests<3,>=2.21.0->tensorboard<2.9,>=2.8->tensorflow) (2.10)\n",
      "Collecting zipp>=0.5\n",
      "  Downloading zipp-3.7.0-py3-none-any.whl (5.3 kB)\n",
      "Collecting pyasn1<0.5.0,>=0.4.6\n",
      "  Downloading pyasn1-0.4.8-py2.py3-none-any.whl (77 kB)\n",
      "     ---------------------------------------- 77.1/77.1 KB 4.5 MB/s eta 0:00:00\n",
      "Collecting oauthlib>=3.0.0\n",
      "  Downloading oauthlib-3.2.0-py3-none-any.whl (151 kB)\n",
      "     -------------------------------------- 151.5/151.5 KB 4.6 MB/s eta 0:00:00\n",
      "Using legacy 'setup.py install' for termcolor, since package 'wheel' is not installed.\n",
      "Installing collected packages: tf-estimator-nightly, termcolor, tensorboard-plugin-wit, pyasn1, libclang, flatbuffers, zipp, wheel, werkzeug, typing-extensions, tensorflow-io-gcs-filesystem, tensorboard-data-server, rsa, pyasn1-modules, protobuf, opt-einsum, oauthlib, keras-preprocessing, h5py, grpcio, google-pasta, gast, absl-py, requests-oauthlib, importlib-metadata, google-auth, astunparse, markdown, google-auth-oauthlib, tensorboard, tensorflow\n",
      "  Running setup.py install for termcolor: started\n",
      "  Running setup.py install for termcolor: finished with status 'done'\n",
      "Successfully installed absl-py-1.0.0 astunparse-1.6.3 flatbuffers-2.0 gast-0.5.3 google-auth-2.6.2 google-auth-oauthlib-0.4.6 google-pasta-0.2.0 grpcio-1.44.0 h5py-3.6.0 importlib-metadata-4.11.3 keras-preprocessing-1.1.2 libclang-13.0.0 markdown-3.3.6 oauthlib-3.2.0 opt-einsum-3.3.0 protobuf-3.19.4 pyasn1-0.4.8 pyasn1-modules-0.2.8 requests-oauthlib-1.3.1 rsa-4.8 tensorboard-2.8.0 tensorboard-data-server-0.6.1 tensorboard-plugin-wit-1.8.1 tensorflow-2.8.0 tensorflow-io-gcs-filesystem-0.24.0 termcolor-1.1.0 tf-estimator-nightly-2.8.0.dev2021122109 typing-extensions-4.1.1 werkzeug-2.1.0 wheel-0.37.1 zipp-3.7.0\n",
      "Collecting nltk\n",
      "  Downloading nltk-3.7-py3-none-any.whl (1.5 MB)\n",
      "     ---------------------------------------- 1.5/1.5 MB 11.9 MB/s eta 0:00:00\n",
      "Requirement already satisfied: joblib in c:\\users\\16680\\appdata\\local\\programs\\python\\python39\\lib\\site-packages (from nltk) (1.1.0)\n",
      "Collecting tqdm\n",
      "  Downloading tqdm-4.63.1-py2.py3-none-any.whl (76 kB)\n",
      "     ---------------------------------------- 76.6/76.6 KB ? eta 0:00:00\n",
      "Collecting regex>=2021.8.3\n",
      "  Downloading regex-2022.3.15-cp39-cp39-win_amd64.whl (274 kB)\n",
      "     ------------------------------------- 274.4/274.4 KB 16.5 MB/s eta 0:00:00\n",
      "Collecting click\n",
      "  Downloading click-8.1.2-py3-none-any.whl (96 kB)\n",
      "     ---------------------------------------- 96.6/96.6 KB ? eta 0:00:00\n",
      "Requirement already satisfied: colorama in c:\\users\\16680\\appdata\\roaming\\python\\python39\\site-packages (from click->nltk) (0.4.4)\n",
      "Installing collected packages: tqdm, regex, click, nltk\n",
      "Successfully installed click-8.1.2 nltk-3.7 regex-2022.3.15 tqdm-4.63.1\n"
     ]
    }
   ],
   "source": [
    "!pip3 install tensorflow\n",
    "!pip install -U nltk"
   ]
  },
  {
   "cell_type": "code",
   "execution_count": 1,
   "metadata": {
    "_uuid": "303e72966af732ddef0bd8108a321095314e44af"
   },
   "outputs": [],
   "source": [
    "# DataFrame\n",
    "import pandas as pd\n",
    "\n",
    "# Matplot\n",
    "import matplotlib.pyplot as plt\n",
    "%matplotlib inline\n",
    "\n",
    "# Scikit-learn\n",
    "from sklearn.model_selection import train_test_split\n",
    "from sklearn.preprocessing import LabelEncoder\n",
    "from sklearn.metrics import confusion_matrix, classification_report, accuracy_score\n",
    "from sklearn.manifold import TSNE\n",
    "from sklearn.feature_extraction.text import TfidfVectorizer\n",
    "\n",
    "# Keras\n",
    "from keras.preprocessing.text import Tokenizer\n",
    "from keras.preprocessing.sequence import pad_sequences\n",
    "from keras.models import Sequential\n",
    "from keras.layers import Activation, Dense, Dropout, Embedding, Flatten, Conv1D, MaxPooling1D, LSTM\n",
    "from keras import utils\n",
    "from keras.callbacks import ReduceLROnPlateau, EarlyStopping\n",
    "\n",
    "# nltk\n",
    "import nltk\n",
    "from nltk.corpus import stopwords\n",
    "from  nltk.stem import SnowballStemmer\n",
    "\n",
    "# Word2vec\n",
    "import gensim\n",
    "\n",
    "# Utility\n",
    "import re\n",
    "import numpy as np\n",
    "import os\n",
    "from collections import Counter\n",
    "import logging\n",
    "import time\n",
    "import pickle\n",
    "import itertools\n",
    "\n",
    "# Set log\n",
    "logging.basicConfig(format='%(asctime)s : %(levelname)s : %(message)s', level=logging.INFO)"
   ]
  },
  {
   "cell_type": "code",
   "execution_count": 2,
   "metadata": {
    "_uuid": "35e1a89dead5fd160e4c9a024a21d2e569fc89ff"
   },
   "outputs": [
    {
     "name": "stderr",
     "output_type": "stream",
     "text": [
      "[nltk_data] Downloading package stopwords to\n",
      "[nltk_data]     C:\\Users\\16680\\AppData\\Roaming\\nltk_data...\n",
      "[nltk_data]   Package stopwords is already up-to-date!\n"
     ]
    },
    {
     "data": {
      "text/plain": [
       "True"
      ]
     },
     "execution_count": 2,
     "metadata": {},
     "output_type": "execute_result"
    }
   ],
   "source": [
    "nltk.download('stopwords')"
   ]
  },
  {
   "cell_type": "markdown",
   "metadata": {
    "_uuid": "e8b01a07df001e4abcc745900336c4db06e455f3"
   },
   "source": [
    "### Settings"
   ]
  },
  {
   "cell_type": "code",
   "execution_count": 2,
   "metadata": {
    "_uuid": "180f0dd2a95419e4602b5c0229822b0111c826f6"
   },
   "outputs": [],
   "source": [
    "# DATASET\n",
    "DATASET_COLUMNS = [\"target\", \"ids\", \"date\", \"flag\", \"user\", \"text\"]\n",
    "DATASET_ENCODING = \"ISO-8859-1\"\n",
    "TRAIN_SIZE = 0.8\n",
    "\n",
    "# TEXT CLENAING\n",
    "TEXT_CLEANING_RE = \"@\\S+|https?:\\S+|http?:\\S|[^A-Za-z0-9]+\"\n",
    "\n",
    "# WORD2VEC \n",
    "W2V_SIZE = 300\n",
    "W2V_WINDOW = 7\n",
    "W2V_EPOCH = 32\n",
    "W2V_MIN_COUNT = 10\n",
    "\n",
    "# KERAS\n",
    "SEQUENCE_LENGTH = 300\n",
    "EPOCHS = 3 #Only 3 epochs for comparison\n",
    "BATCH_SIZE = 1024\n",
    "\n",
    "# SENTIMENT\n",
    "POSITIVE = \"POSITIVE\"\n",
    "NEGATIVE = \"NEGATIVE\"\n",
    "NEUTRAL = \"NEUTRAL\"\n",
    "SENTIMENT_THRESHOLDS = (0.4, 0.7)\n",
    "\n",
    "# EXPORT\n",
    "KERAS_MODEL = \"model.h5\"\n",
    "WORD2VEC_MODEL = \"model.w2v\"\n",
    "TOKENIZER_MODEL = \"tokenizer.pkl\"\n",
    "ENCODER_MODEL = \"encoder.pkl\""
   ]
  },
  {
   "cell_type": "markdown",
   "metadata": {
    "_uuid": "1c3beecc618be68480b3d4f0de08d9d863da1dc1"
   },
   "source": [
    "### Read Dataset"
   ]
  },
  {
   "cell_type": "markdown",
   "metadata": {
    "_uuid": "563b3c44f1092dba0b853747b098e00509098cca"
   },
   "source": [
    "### Dataset details\n",
    "* **target**: the polarity of the tweet (0 = negative, 2 = neutral, 4 = positive)\n",
    "* **ids**: The id of the tweet ( 2087)\n",
    "* **date**: the date of the tweet (Sat May 16 23:58:44 UTC 2009)\n",
    "* **flag**: The query (lyx). If there is no query, then this value is NO_QUERY.\n",
    "* **user**: the user that tweeted (robotickilldozr)\n",
    "* **text**: the text of the tweet (Lyx is cool)"
   ]
  },
  {
   "cell_type": "code",
   "execution_count": 3,
   "metadata": {
    "_uuid": "bba8f91cd70de4f5ea0fb0870ae2029b6e3dcc24"
   },
   "outputs": [],
   "source": [
    "#dataset_filename = os.listdir(\"../input\")[0]\n",
    "#dataset_path = os.path.join(\"..\",\"input\",dataset_filename)\n",
    "#print(\"Open file:\", dataset_path)\n",
    "df = pd.read_csv(\"sentiment140.csv\", encoding =DATASET_ENCODING , names=DATASET_COLUMNS)"
   ]
  },
  {
   "cell_type": "code",
   "execution_count": 4,
   "metadata": {
    "_uuid": "936d499c00c4f1648bc16ca9d283c3b39be7fb10"
   },
   "outputs": [
    {
     "name": "stdout",
     "output_type": "stream",
     "text": [
      "Dataset size: 1600000\n"
     ]
    }
   ],
   "source": [
    "print(\"Dataset size:\", len(df))"
   ]
  },
  {
   "cell_type": "code",
   "execution_count": 5,
   "metadata": {
    "_uuid": "7486ed895b813c5246f97b31b6162b0f65ff763b"
   },
   "outputs": [
    {
     "data": {
      "text/html": [
       "<div>\n",
       "<style scoped>\n",
       "    .dataframe tbody tr th:only-of-type {\n",
       "        vertical-align: middle;\n",
       "    }\n",
       "\n",
       "    .dataframe tbody tr th {\n",
       "        vertical-align: top;\n",
       "    }\n",
       "\n",
       "    .dataframe thead th {\n",
       "        text-align: right;\n",
       "    }\n",
       "</style>\n",
       "<table border=\"1\" class=\"dataframe\">\n",
       "  <thead>\n",
       "    <tr style=\"text-align: right;\">\n",
       "      <th></th>\n",
       "      <th>target</th>\n",
       "      <th>ids</th>\n",
       "      <th>date</th>\n",
       "      <th>flag</th>\n",
       "      <th>user</th>\n",
       "      <th>text</th>\n",
       "    </tr>\n",
       "  </thead>\n",
       "  <tbody>\n",
       "    <tr>\n",
       "      <th>0</th>\n",
       "      <td>0</td>\n",
       "      <td>1467810369</td>\n",
       "      <td>Mon Apr 06 22:19:45 PDT 2009</td>\n",
       "      <td>NO_QUERY</td>\n",
       "      <td>_TheSpecialOne_</td>\n",
       "      <td>@switchfoot http://twitpic.com/2y1zl - Awww, t...</td>\n",
       "    </tr>\n",
       "    <tr>\n",
       "      <th>1</th>\n",
       "      <td>0</td>\n",
       "      <td>1467810672</td>\n",
       "      <td>Mon Apr 06 22:19:49 PDT 2009</td>\n",
       "      <td>NO_QUERY</td>\n",
       "      <td>scotthamilton</td>\n",
       "      <td>is upset that he can't update his Facebook by ...</td>\n",
       "    </tr>\n",
       "    <tr>\n",
       "      <th>2</th>\n",
       "      <td>0</td>\n",
       "      <td>1467810917</td>\n",
       "      <td>Mon Apr 06 22:19:53 PDT 2009</td>\n",
       "      <td>NO_QUERY</td>\n",
       "      <td>mattycus</td>\n",
       "      <td>@Kenichan I dived many times for the ball. Man...</td>\n",
       "    </tr>\n",
       "    <tr>\n",
       "      <th>3</th>\n",
       "      <td>0</td>\n",
       "      <td>1467811184</td>\n",
       "      <td>Mon Apr 06 22:19:57 PDT 2009</td>\n",
       "      <td>NO_QUERY</td>\n",
       "      <td>ElleCTF</td>\n",
       "      <td>my whole body feels itchy and like its on fire</td>\n",
       "    </tr>\n",
       "    <tr>\n",
       "      <th>4</th>\n",
       "      <td>0</td>\n",
       "      <td>1467811193</td>\n",
       "      <td>Mon Apr 06 22:19:57 PDT 2009</td>\n",
       "      <td>NO_QUERY</td>\n",
       "      <td>Karoli</td>\n",
       "      <td>@nationwideclass no, it's not behaving at all....</td>\n",
       "    </tr>\n",
       "  </tbody>\n",
       "</table>\n",
       "</div>"
      ],
      "text/plain": [
       "   target         ids                          date      flag  \\\n",
       "0       0  1467810369  Mon Apr 06 22:19:45 PDT 2009  NO_QUERY   \n",
       "1       0  1467810672  Mon Apr 06 22:19:49 PDT 2009  NO_QUERY   \n",
       "2       0  1467810917  Mon Apr 06 22:19:53 PDT 2009  NO_QUERY   \n",
       "3       0  1467811184  Mon Apr 06 22:19:57 PDT 2009  NO_QUERY   \n",
       "4       0  1467811193  Mon Apr 06 22:19:57 PDT 2009  NO_QUERY   \n",
       "\n",
       "              user                                               text  \n",
       "0  _TheSpecialOne_  @switchfoot http://twitpic.com/2y1zl - Awww, t...  \n",
       "1    scotthamilton  is upset that he can't update his Facebook by ...  \n",
       "2         mattycus  @Kenichan I dived many times for the ball. Man...  \n",
       "3          ElleCTF    my whole body feels itchy and like its on fire   \n",
       "4           Karoli  @nationwideclass no, it's not behaving at all....  "
      ]
     },
     "execution_count": 5,
     "metadata": {},
     "output_type": "execute_result"
    }
   ],
   "source": [
    "df.head(5)"
   ]
  },
  {
   "cell_type": "markdown",
   "metadata": {},
   "source": [
    "### Cut off data size to 80000 tweets"
   ]
  },
  {
   "cell_type": "code",
   "execution_count": 6,
   "metadata": {},
   "outputs": [],
   "source": [
    "df1 = pd.DataFrame(df)\n",
    "neg_df = df[df['target'] == 0].head(40000)\n",
    "pos_df = df1[df1['target'] == 4].head(40000)\n",
    "frames = [neg_df, pos_df]\n",
    "df = pd.concat(frames)"
   ]
  },
  {
   "cell_type": "code",
   "execution_count": 7,
   "metadata": {},
   "outputs": [
    {
     "data": {
      "text/plain": [
       "array([4], dtype=int64)"
      ]
     },
     "execution_count": 7,
     "metadata": {},
     "output_type": "execute_result"
    }
   ],
   "source": [
    "pos_df.target.unique()"
   ]
  },
  {
   "cell_type": "code",
   "execution_count": 8,
   "metadata": {},
   "outputs": [
    {
     "data": {
      "text/plain": [
       "array([0, 4], dtype=int64)"
      ]
     },
     "execution_count": 8,
     "metadata": {},
     "output_type": "execute_result"
    }
   ],
   "source": [
    "df.target.unique()"
   ]
  },
  {
   "cell_type": "code",
   "execution_count": 9,
   "metadata": {},
   "outputs": [
    {
     "data": {
      "text/plain": [
       "80000"
      ]
     },
     "execution_count": 9,
     "metadata": {},
     "output_type": "execute_result"
    }
   ],
   "source": [
    "len(df)"
   ]
  },
  {
   "cell_type": "markdown",
   "metadata": {
    "_uuid": "3f9a7bb129e184967b13261fb5d253af451c75c5"
   },
   "source": [
    "### Map target label to String\n",
    "* **0** -> **NEGATIVE**\n",
    "* **2** -> **NEUTRAL**\n",
    "* **4** -> **POSITIVE**"
   ]
  },
  {
   "cell_type": "code",
   "execution_count": 10,
   "metadata": {
    "_uuid": "14074b59106cb9550440839e48b832223fc9502f"
   },
   "outputs": [],
   "source": [
    "decode_map = {0: \"NEGATIVE\", 2: \"NEUTRAL\", 4: \"POSITIVE\"}\n",
    "def decode_sentiment(label):\n",
    "    return decode_map[int(label)]"
   ]
  },
  {
   "cell_type": "code",
   "execution_count": 11,
   "metadata": {
    "_uuid": "4449d473187f647a195a6ac6986b009da32a7f4b"
   },
   "outputs": [
    {
     "name": "stdout",
     "output_type": "stream",
     "text": [
      "Wall time: 15.6 ms\n"
     ]
    }
   ],
   "source": [
    "%%time\n",
    "df.target = df.target.apply(lambda x: decode_sentiment(x))"
   ]
  },
  {
   "cell_type": "code",
   "execution_count": 12,
   "metadata": {
    "_uuid": "19eb327803192f31cce3512aacb232f4d6b38715"
   },
   "outputs": [
    {
     "data": {
      "text/plain": [
       "Text(0.5, 1.0, 'Dataset labels distribuition')"
      ]
     },
     "execution_count": 12,
     "metadata": {},
     "output_type": "execute_result"
    },
    {
     "data": {
      "image/png": "[encoded data removed]",
      "text/plain": [
       "<Figure size 1152x576 with 1 Axes>"
      ]
     },
     "metadata": {
      "needs_background": "light"
     },
     "output_type": "display_data"
    }
   ],
   "source": [
    "target_cnt = Counter(df.target)\n",
    "\n",
    "plt.figure(figsize=(16,8))\n",
    "plt.bar(target_cnt.keys(), target_cnt.values())\n",
    "plt.title(\"Dataset labels distribuition\")"
   ]
  },
  {
   "cell_type": "markdown",
   "metadata": {
    "_uuid": "4329b1573518b03e497213efa7676220734ebb4b"
   },
   "source": [
    "### Pre-Process dataset"
   ]
  },
  {
   "cell_type": "markdown",
   "metadata": {
    "_uuid": "8aeee8b7b9ea11b749c7f91cd4787a7b50ed1a91"
   },
   "source": [
    "We will start by using the netlinguo dictionary"
   ]
  },
  {
   "cell_type": "code",
   "execution_count": 14,
   "metadata": {},
   "outputs": [
    {
     "data": {
      "text/html": [
       "<div>\n",
       "<style scoped>\n",
       "    .dataframe tbody tr th:only-of-type {\n",
       "        vertical-align: middle;\n",
       "    }\n",
       "\n",
       "    .dataframe tbody tr th {\n",
       "        vertical-align: top;\n",
       "    }\n",
       "\n",
       "    .dataframe thead th {\n",
       "        text-align: right;\n",
       "    }\n",
       "</style>\n",
       "<table border=\"1\" class=\"dataframe\">\n",
       "  <thead>\n",
       "    <tr style=\"text-align: right;\">\n",
       "      <th></th>\n",
       "      <th>Unnamed: 0</th>\n",
       "      <th>abbr</th>\n",
       "      <th>meaning</th>\n",
       "    </tr>\n",
       "  </thead>\n",
       "  <tbody>\n",
       "    <tr>\n",
       "      <th>0</th>\n",
       "      <td>0</td>\n",
       "      <td>#FF</td>\n",
       "      <td>Follow Friday</td>\n",
       "    </tr>\n",
       "    <tr>\n",
       "      <th>1</th>\n",
       "      <td>1</td>\n",
       "      <td>(U)</td>\n",
       "      <td>it means arms around you, hug for you</td>\n",
       "    </tr>\n",
       "    <tr>\n",
       "      <th>2</th>\n",
       "      <td>2</td>\n",
       "      <td>*$</td>\n",
       "      <td>Starbucks</td>\n",
       "    </tr>\n",
       "    <tr>\n",
       "      <th>3</th>\n",
       "      <td>3</td>\n",
       "      <td>**//</td>\n",
       "      <td>it means wink wink, nudge nudge</td>\n",
       "    </tr>\n",
       "    <tr>\n",
       "      <th>4</th>\n",
       "      <td>4</td>\n",
       "      <td>,!!!!</td>\n",
       "      <td>Talk to the hand</td>\n",
       "    </tr>\n",
       "  </tbody>\n",
       "</table>\n",
       "</div>"
      ],
      "text/plain": [
       "   Unnamed: 0   abbr                                meaning\n",
       "0           0    #FF                          Follow Friday\n",
       "1           1    (U)  it means arms around you, hug for you\n",
       "2           2     *$                              Starbucks\n",
       "3           3   **//        it means wink wink, nudge nudge\n",
       "4           4  ,!!!!                       Talk to the hand"
      ]
     },
     "execution_count": 14,
     "metadata": {},
     "output_type": "execute_result"
    }
   ],
   "source": [
    "netlingo = pd.read_csv(\"netlingo.csv\")\n",
    "netlingo.head()"
   ]
  },
  {
   "cell_type": "code",
   "execution_count": 15,
   "metadata": {},
   "outputs": [],
   "source": [
    "netlingo_dict = dict(zip(netlingo.abbr, netlingo.meaning))"
   ]
  },
  {
   "cell_type": "code",
   "execution_count": null,
   "metadata": {},
   "outputs": [],
   "source": []
  },
  {
   "cell_type": "code",
   "execution_count": 16,
   "metadata": {},
   "outputs": [],
   "source": [
    "stemmer = SnowballStemmer(\"english\")"
   ]
  },
  {
   "cell_type": "code",
   "execution_count": 17,
   "metadata": {
    "_uuid": "649ebcb97969b9ac4301138783704bb3d7846a49"
   },
   "outputs": [],
   "source": [
    "def preprocess(text, stem = False, soundex = False):\n",
    "    # Remove link,user and special characters\n",
    "    text = re.sub(TEXT_CLEANING_RE, ' ', str(text).lower()).strip()\n",
    "    tokens = []\n",
    "    for token in text.split():\n",
    "        if token in netlingo_dict:\n",
    "            token = netlingo_dict.get(token)\n",
    "        if stem:\n",
    "            tokens.append(stemmer.stem(token))\n",
    "        else:\n",
    "            tokens.append(token)\n",
    "    return \" \".join(tokens)"
   ]
  },
  {
   "cell_type": "code",
   "execution_count": 18,
   "metadata": {
    "_uuid": "f7f3e77ab9291d14687c49e71ba9b2b1e3323432"
   },
   "outputs": [
    {
     "name": "stdout",
     "output_type": "stream",
     "text": [
      "Wall time: 8.12 s\n"
     ]
    }
   ],
   "source": [
    "%%time\n",
    "df.text = df.text.apply(lambda x: preprocess(x, stem = True))"
   ]
  },
  {
   "cell_type": "code",
   "execution_count": 19,
   "metadata": {},
   "outputs": [],
   "source": [
    "#Remember to just save this preprocessed dataframe. No need to change unless enperimenting on this again"
   ]
  },
  {
   "cell_type": "markdown",
   "metadata": {
    "_uuid": "f5f9714a8507409bbe780eebf2855a33e8e6ba37"
   },
   "source": [
    "### Split train and test"
   ]
  },
  {
   "cell_type": "code",
   "execution_count": 20,
   "metadata": {
    "_uuid": "d2b1179c968e3f3910c790ecf0c5b2cbb34b0e68"
   },
   "outputs": [
    {
     "name": "stdout",
     "output_type": "stream",
     "text": [
      "TRAIN size: 64000\n",
      "TEST size: 16000\n"
     ]
    }
   ],
   "source": [
    "df_train, df_test = train_test_split(df, test_size=1-TRAIN_SIZE, random_state=42)\n",
    "print(\"TRAIN size:\", len(df_train))\n",
    "print(\"TEST size:\", len(df_test))"
   ]
  },
  {
   "cell_type": "markdown",
   "metadata": {
    "_uuid": "f08a28aab2c3d16d8b9681a7d5d07587153a1cd6"
   },
   "source": [
    "### Word2Vec "
   ]
  },
  {
   "cell_type": "code",
   "execution_count": 21,
   "metadata": {
    "_uuid": "2461bf564de1b4414841933d0c1d1bee5f5cc5a6"
   },
   "outputs": [
    {
     "name": "stdout",
     "output_type": "stream",
     "text": [
      "Wall time: 170 ms\n"
     ]
    }
   ],
   "source": [
    "%%time\n",
    "documents = [_text.split() for _text in df_train.text] "
   ]
  },
  {
   "cell_type": "code",
   "execution_count": 22,
   "metadata": {
    "_uuid": "8e19b9f25801ba86420decc266d2b3e6fb44f1ea"
   },
   "outputs": [
    {
     "name": "stderr",
     "output_type": "stream",
     "text": [
      "2022-04-05 14:44:13,153 : INFO : Word2Vec lifecycle event {'params': 'Word2Vec(vocab=0, vector_size=300, alpha=0.025)', 'datetime': '2022-04-05T14:44:13.134718', 'gensim': '4.1.2', 'python': '3.9.7 (tags/v3.9.7:1016ef3, Aug 30 2021, 20:19:38) [MSC v.1929 64 bit (AMD64)]', 'platform': 'Windows-10-10.0.19044-SP0', 'event': 'created'}\n"
     ]
    }
   ],
   "source": [
    "w2v_model = gensim.models.word2vec.Word2Vec(vector_size=W2V_SIZE, \n",
    "                                            window=W2V_WINDOW, \n",
    "                                            min_count=W2V_MIN_COUNT, \n",
    "                                            workers=8)"
   ]
  },
  {
   "cell_type": "code",
   "execution_count": 23,
   "metadata": {
    "_uuid": "58d655af07653c594bec6bebcfb302a973b0ad9c"
   },
   "outputs": [
    {
     "name": "stderr",
     "output_type": "stream",
     "text": [
      "2022-04-05 14:44:14,299 : INFO : collecting all words and their counts\n",
      "2022-04-05 14:44:14,300 : INFO : PROGRESS: at sentence #0, processed 0 words, keeping 0 word types\n",
      "2022-04-05 14:44:14,322 : INFO : PROGRESS: at sentence #10000, processed 132899 words, keeping 11032 word types\n",
      "2022-04-05 14:44:14,346 : INFO : PROGRESS: at sentence #20000, processed 265205 words, keeping 16741 word types\n",
      "2022-04-05 14:44:14,386 : INFO : PROGRESS: at sentence #30000, processed 399502 words, keeping 21300 word types\n",
      "2022-04-05 14:44:14,416 : INFO : PROGRESS: at sentence #40000, processed 533121 words, keeping 25365 word types\n",
      "2022-04-05 14:44:14,441 : INFO : PROGRESS: at sentence #50000, processed 666432 words, keeping 29007 word types\n",
      "2022-04-05 14:44:14,477 : INFO : PROGRESS: at sentence #60000, processed 799752 words, keeping 32288 word types\n",
      "2022-04-05 14:44:14,493 : INFO : collected 33582 word types from a corpus of 852379 raw words and 64000 sentences\n",
      "2022-04-05 14:44:14,493 : INFO : Creating a fresh vocabulary\n",
      "2022-04-05 14:44:14,520 : INFO : Word2Vec lifecycle event {'msg': 'effective_min_count=10 retains 4198 unique words (12.500744446429636%% of original 33582, drops 29384)', 'datetime': '2022-04-05T14:44:14.520699', 'gensim': '4.1.2', 'python': '3.9.7 (tags/v3.9.7:1016ef3, Aug 30 2021, 20:19:38) [MSC v.1929 64 bit (AMD64)]', 'platform': 'Windows-10-10.0.19044-SP0', 'event': 'prepare_vocab'}\n",
      "2022-04-05 14:44:14,521 : INFO : Word2Vec lifecycle event {'msg': 'effective_min_count=10 leaves 798026 word corpus (93.62337645577847%% of original 852379, drops 54353)', 'datetime': '2022-04-05T14:44:14.521675', 'gensim': '4.1.2', 'python': '3.9.7 (tags/v3.9.7:1016ef3, Aug 30 2021, 20:19:38) [MSC v.1929 64 bit (AMD64)]', 'platform': 'Windows-10-10.0.19044-SP0', 'event': 'prepare_vocab'}\n",
      "2022-04-05 14:44:14,566 : INFO : deleting the raw counts dictionary of 33582 items\n",
      "2022-04-05 14:44:14,567 : INFO : sample=0.001 downsamples 59 most-common words\n",
      "2022-04-05 14:44:14,568 : INFO : Word2Vec lifecycle event {'msg': 'downsampling leaves estimated 593090.2343653855 word corpus (74.3%% of prior 798026)', 'datetime': '2022-04-05T14:44:14.568584', 'gensim': '4.1.2', 'python': '3.9.7 (tags/v3.9.7:1016ef3, Aug 30 2021, 20:19:38) [MSC v.1929 64 bit (AMD64)]', 'platform': 'Windows-10-10.0.19044-SP0', 'event': 'prepare_vocab'}\n",
      "2022-04-05 14:44:14,632 : INFO : estimated required memory for 4198 words and 300 dimensions: 12174200 bytes\n",
      "2022-04-05 14:44:14,633 : INFO : resetting layer weights\n",
      "2022-04-05 14:44:14,638 : INFO : Word2Vec lifecycle event {'update': False, 'trim_rule': 'None', 'datetime': '2022-04-05T14:44:14.638470', 'gensim': '4.1.2', 'python': '3.9.7 (tags/v3.9.7:1016ef3, Aug 30 2021, 20:19:38) [MSC v.1929 64 bit (AMD64)]', 'platform': 'Windows-10-10.0.19044-SP0', 'event': 'build_vocab'}\n"
     ]
    }
   ],
   "source": [
    "w2v_model.build_vocab(documents)"
   ]
  },
  {
   "cell_type": "code",
   "execution_count": 24,
   "metadata": {
    "_uuid": "72a5628ca81fd4b8983c12d93ae0bf950b86b6ae"
   },
   "outputs": [
    {
     "name": "stdout",
     "output_type": "stream",
     "text": [
      "Vocab size 4198\n"
     ]
    }
   ],
   "source": [
    "words = w2v_model.wv.key_to_index.keys()\n",
    "vocab_size = len(words)\n",
    "print(\"Vocab size\", vocab_size)"
   ]
  },
  {
   "cell_type": "code",
   "execution_count": 25,
   "metadata": {
    "_uuid": "68c3e4a5ba07cac3dee67f78ecdd1404c7f83f14"
   },
   "outputs": [
    {
     "name": "stderr",
     "output_type": "stream",
     "text": [
      "2022-04-05 14:44:19,998 : INFO : Word2Vec lifecycle event {'msg': 'training model with 8 workers on 4198 vocabulary and 300 features, using sg=0 hs=0 sample=0.001 negative=5 window=7 shrink_windows=True', 'datetime': '2022-04-05T14:44:19.998932', 'gensim': '4.1.2', 'python': '3.9.7 (tags/v3.9.7:1016ef3, Aug 30 2021, 20:19:38) [MSC v.1929 64 bit (AMD64)]', 'platform': 'Windows-10-10.0.19044-SP0', 'event': 'train'}\n",
      "2022-04-05 14:44:20,347 : INFO : worker thread finished; awaiting finish of 7 more threads\n",
      "2022-04-05 14:44:20,354 : INFO : worker thread finished; awaiting finish of 6 more threads\n",
      "2022-04-05 14:44:20,355 : INFO : worker thread finished; awaiting finish of 5 more threads\n",
      "2022-04-05 14:44:20,356 : INFO : worker thread finished; awaiting finish of 4 more threads\n",
      "2022-04-05 14:44:20,357 : INFO : worker thread finished; awaiting finish of 3 more threads\n",
      "2022-04-05 14:44:20,358 : INFO : worker thread finished; awaiting finish of 2 more threads\n",
      "2022-04-05 14:44:20,365 : INFO : worker thread finished; awaiting finish of 1 more threads\n",
      "2022-04-05 14:44:20,366 : INFO : worker thread finished; awaiting finish of 0 more threads\n",
      "2022-04-05 14:44:20,367 : INFO : EPOCH - 1 : training on 852379 raw words (593266 effective words) took 0.4s, 1665743 effective words/s\n",
      "2022-04-05 14:44:20,741 : INFO : worker thread finished; awaiting finish of 7 more threads\n",
      "2022-04-05 14:44:20,744 : INFO : worker thread finished; awaiting finish of 6 more threads\n",
      "2022-04-05 14:44:20,745 : INFO : worker thread finished; awaiting finish of 5 more threads\n",
      "2022-04-05 14:44:20,746 : INFO : worker thread finished; awaiting finish of 4 more threads\n",
      "2022-04-05 14:44:20,748 : INFO : worker thread finished; awaiting finish of 3 more threads\n",
      "2022-04-05 14:44:20,750 : INFO : worker thread finished; awaiting finish of 2 more threads\n",
      "2022-04-05 14:44:20,751 : INFO : worker thread finished; awaiting finish of 1 more threads\n",
      "2022-04-05 14:44:20,754 : INFO : worker thread finished; awaiting finish of 0 more threads\n",
      "2022-04-05 14:44:20,755 : INFO : EPOCH - 2 : training on 852379 raw words (592959 effective words) took 0.4s, 1574182 effective words/s\n",
      "2022-04-05 14:44:21,107 : INFO : worker thread finished; awaiting finish of 7 more threads\n",
      "2022-04-05 14:44:21,110 : INFO : worker thread finished; awaiting finish of 6 more threads\n",
      "2022-04-05 14:44:21,115 : INFO : worker thread finished; awaiting finish of 5 more threads\n",
      "2022-04-05 14:44:21,117 : INFO : worker thread finished; awaiting finish of 4 more threads\n",
      "2022-04-05 14:44:21,118 : INFO : worker thread finished; awaiting finish of 3 more threads\n",
      "2022-04-05 14:44:21,120 : INFO : worker thread finished; awaiting finish of 2 more threads\n",
      "2022-04-05 14:44:21,123 : INFO : worker thread finished; awaiting finish of 1 more threads\n",
      "2022-04-05 14:44:21,126 : INFO : worker thread finished; awaiting finish of 0 more threads\n",
      "2022-04-05 14:44:21,127 : INFO : EPOCH - 3 : training on 852379 raw words (592548 effective words) took 0.4s, 1647945 effective words/s\n",
      "2022-04-05 14:44:21,447 : INFO : worker thread finished; awaiting finish of 7 more threads\n",
      "2022-04-05 14:44:21,449 : INFO : worker thread finished; awaiting finish of 6 more threads\n",
      "2022-04-05 14:44:21,450 : INFO : worker thread finished; awaiting finish of 5 more threads\n",
      "2022-04-05 14:44:21,451 : INFO : worker thread finished; awaiting finish of 4 more threads\n",
      "2022-04-05 14:44:21,451 : INFO : worker thread finished; awaiting finish of 3 more threads\n",
      "2022-04-05 14:44:21,453 : INFO : worker thread finished; awaiting finish of 2 more threads\n",
      "2022-04-05 14:44:21,453 : INFO : worker thread finished; awaiting finish of 1 more threads\n",
      "2022-04-05 14:44:21,457 : INFO : worker thread finished; awaiting finish of 0 more threads\n",
      "2022-04-05 14:44:21,458 : INFO : EPOCH - 4 : training on 852379 raw words (593372 effective words) took 0.3s, 1857522 effective words/s\n",
      "2022-04-05 14:44:21,778 : INFO : worker thread finished; awaiting finish of 7 more threads\n",
      "2022-04-05 14:44:21,780 : INFO : worker thread finished; awaiting finish of 6 more threads\n",
      "2022-04-05 14:44:21,781 : INFO : worker thread finished; awaiting finish of 5 more threads\n",
      "2022-04-05 14:44:21,787 : INFO : worker thread finished; awaiting finish of 4 more threads\n",
      "2022-04-05 14:44:21,788 : INFO : worker thread finished; awaiting finish of 3 more threads\n",
      "2022-04-05 14:44:21,790 : INFO : worker thread finished; awaiting finish of 2 more threads\n",
      "2022-04-05 14:44:21,791 : INFO : worker thread finished; awaiting finish of 1 more threads\n",
      "2022-04-05 14:44:21,792 : INFO : worker thread finished; awaiting finish of 0 more threads\n",
      "2022-04-05 14:44:21,793 : INFO : EPOCH - 5 : training on 852379 raw words (592959 effective words) took 0.3s, 1819003 effective words/s\n",
      "2022-04-05 14:44:22,135 : INFO : worker thread finished; awaiting finish of 7 more threads\n",
      "2022-04-05 14:44:22,137 : INFO : worker thread finished; awaiting finish of 6 more threads\n",
      "2022-04-05 14:44:22,141 : INFO : worker thread finished; awaiting finish of 5 more threads\n",
      "2022-04-05 14:44:22,143 : INFO : worker thread finished; awaiting finish of 4 more threads\n",
      "2022-04-05 14:44:22,143 : INFO : worker thread finished; awaiting finish of 3 more threads\n",
      "2022-04-05 14:44:22,146 : INFO : worker thread finished; awaiting finish of 2 more threads\n",
      "2022-04-05 14:44:22,148 : INFO : worker thread finished; awaiting finish of 1 more threads\n",
      "2022-04-05 14:44:22,152 : INFO : worker thread finished; awaiting finish of 0 more threads\n",
      "2022-04-05 14:44:22,152 : INFO : EPOCH - 6 : training on 852379 raw words (592616 effective words) took 0.3s, 1697691 effective words/s\n",
      "2022-04-05 14:44:22,492 : INFO : worker thread finished; awaiting finish of 7 more threads\n",
      "2022-04-05 14:44:22,494 : INFO : worker thread finished; awaiting finish of 6 more threads\n",
      "2022-04-05 14:44:22,495 : INFO : worker thread finished; awaiting finish of 5 more threads\n",
      "2022-04-05 14:44:22,497 : INFO : worker thread finished; awaiting finish of 4 more threads\n",
      "2022-04-05 14:44:22,498 : INFO : worker thread finished; awaiting finish of 3 more threads\n",
      "2022-04-05 14:44:22,501 : INFO : worker thread finished; awaiting finish of 2 more threads\n",
      "2022-04-05 14:44:22,505 : INFO : worker thread finished; awaiting finish of 1 more threads\n",
      "2022-04-05 14:44:22,506 : INFO : worker thread finished; awaiting finish of 0 more threads\n",
      "2022-04-05 14:44:22,506 : INFO : EPOCH - 7 : training on 852379 raw words (593152 effective words) took 0.3s, 1734758 effective words/s\n",
      "2022-04-05 14:44:22,823 : INFO : worker thread finished; awaiting finish of 7 more threads\n",
      "2022-04-05 14:44:22,827 : INFO : worker thread finished; awaiting finish of 6 more threads\n",
      "2022-04-05 14:44:22,830 : INFO : worker thread finished; awaiting finish of 5 more threads\n",
      "2022-04-05 14:44:22,831 : INFO : worker thread finished; awaiting finish of 4 more threads\n",
      "2022-04-05 14:44:22,834 : INFO : worker thread finished; awaiting finish of 3 more threads\n",
      "2022-04-05 14:44:22,836 : INFO : worker thread finished; awaiting finish of 2 more threads\n",
      "2022-04-05 14:44:22,837 : INFO : worker thread finished; awaiting finish of 1 more threads\n",
      "2022-04-05 14:44:22,839 : INFO : worker thread finished; awaiting finish of 0 more threads\n",
      "2022-04-05 14:44:22,839 : INFO : EPOCH - 8 : training on 852379 raw words (593058 effective words) took 0.3s, 1845759 effective words/s\n",
      "2022-04-05 14:44:23,162 : INFO : worker thread finished; awaiting finish of 7 more threads\n",
      "2022-04-05 14:44:23,166 : INFO : worker thread finished; awaiting finish of 6 more threads\n",
      "2022-04-05 14:44:23,167 : INFO : worker thread finished; awaiting finish of 5 more threads\n",
      "2022-04-05 14:44:23,168 : INFO : worker thread finished; awaiting finish of 4 more threads\n",
      "2022-04-05 14:44:23,169 : INFO : worker thread finished; awaiting finish of 3 more threads\n",
      "2022-04-05 14:44:23,175 : INFO : worker thread finished; awaiting finish of 2 more threads\n",
      "2022-04-05 14:44:23,176 : INFO : worker thread finished; awaiting finish of 1 more threads\n",
      "2022-04-05 14:44:23,178 : INFO : worker thread finished; awaiting finish of 0 more threads\n",
      "2022-04-05 14:44:23,178 : INFO : EPOCH - 9 : training on 852379 raw words (592760 effective words) took 0.3s, 1805256 effective words/s\n"
     ]
    },
    {
     "name": "stderr",
     "output_type": "stream",
     "text": [
      "2022-04-05 14:44:23,573 : INFO : worker thread finished; awaiting finish of 7 more threads\n",
      "2022-04-05 14:44:23,575 : INFO : worker thread finished; awaiting finish of 6 more threads\n",
      "2022-04-05 14:44:23,576 : INFO : worker thread finished; awaiting finish of 5 more threads\n",
      "2022-04-05 14:44:23,586 : INFO : worker thread finished; awaiting finish of 4 more threads\n",
      "2022-04-05 14:44:23,594 : INFO : worker thread finished; awaiting finish of 3 more threads\n",
      "2022-04-05 14:44:23,595 : INFO : worker thread finished; awaiting finish of 2 more threads\n",
      "2022-04-05 14:44:23,598 : INFO : worker thread finished; awaiting finish of 1 more threads\n",
      "2022-04-05 14:44:23,607 : INFO : worker thread finished; awaiting finish of 0 more threads\n",
      "2022-04-05 14:44:23,608 : INFO : EPOCH - 10 : training on 852379 raw words (592992 effective words) took 0.4s, 1421164 effective words/s\n",
      "2022-04-05 14:44:24,086 : INFO : worker thread finished; awaiting finish of 7 more threads\n",
      "2022-04-05 14:44:24,088 : INFO : worker thread finished; awaiting finish of 6 more threads\n",
      "2022-04-05 14:44:24,090 : INFO : worker thread finished; awaiting finish of 5 more threads\n",
      "2022-04-05 14:44:24,090 : INFO : worker thread finished; awaiting finish of 4 more threads\n",
      "2022-04-05 14:44:24,094 : INFO : worker thread finished; awaiting finish of 3 more threads\n",
      "2022-04-05 14:44:24,096 : INFO : worker thread finished; awaiting finish of 2 more threads\n",
      "2022-04-05 14:44:24,096 : INFO : worker thread finished; awaiting finish of 1 more threads\n",
      "2022-04-05 14:44:24,098 : INFO : worker thread finished; awaiting finish of 0 more threads\n",
      "2022-04-05 14:44:24,099 : INFO : EPOCH - 11 : training on 852379 raw words (593459 effective words) took 0.5s, 1242961 effective words/s\n",
      "2022-04-05 14:44:24,463 : INFO : worker thread finished; awaiting finish of 7 more threads\n",
      "2022-04-05 14:44:24,465 : INFO : worker thread finished; awaiting finish of 6 more threads\n",
      "2022-04-05 14:44:24,471 : INFO : worker thread finished; awaiting finish of 5 more threads\n",
      "2022-04-05 14:44:24,476 : INFO : worker thread finished; awaiting finish of 4 more threads\n",
      "2022-04-05 14:44:24,477 : INFO : worker thread finished; awaiting finish of 3 more threads\n",
      "2022-04-05 14:44:24,479 : INFO : worker thread finished; awaiting finish of 2 more threads\n",
      "2022-04-05 14:44:24,480 : INFO : worker thread finished; awaiting finish of 1 more threads\n",
      "2022-04-05 14:44:24,480 : INFO : worker thread finished; awaiting finish of 0 more threads\n",
      "2022-04-05 14:44:24,481 : INFO : EPOCH - 12 : training on 852379 raw words (592874 effective words) took 0.4s, 1597683 effective words/s\n",
      "2022-04-05 14:44:24,854 : INFO : worker thread finished; awaiting finish of 7 more threads\n",
      "2022-04-05 14:44:24,860 : INFO : worker thread finished; awaiting finish of 6 more threads\n",
      "2022-04-05 14:44:24,862 : INFO : worker thread finished; awaiting finish of 5 more threads\n",
      "2022-04-05 14:44:24,863 : INFO : worker thread finished; awaiting finish of 4 more threads\n",
      "2022-04-05 14:44:24,864 : INFO : worker thread finished; awaiting finish of 3 more threads\n",
      "2022-04-05 14:44:24,867 : INFO : worker thread finished; awaiting finish of 2 more threads\n",
      "2022-04-05 14:44:24,871 : INFO : worker thread finished; awaiting finish of 1 more threads\n",
      "2022-04-05 14:44:24,872 : INFO : worker thread finished; awaiting finish of 0 more threads\n",
      "2022-04-05 14:44:24,873 : INFO : EPOCH - 13 : training on 852379 raw words (592963 effective words) took 0.4s, 1565025 effective words/s\n",
      "2022-04-05 14:44:25,238 : INFO : worker thread finished; awaiting finish of 7 more threads\n",
      "2022-04-05 14:44:25,245 : INFO : worker thread finished; awaiting finish of 6 more threads\n",
      "2022-04-05 14:44:25,247 : INFO : worker thread finished; awaiting finish of 5 more threads\n",
      "2022-04-05 14:44:25,249 : INFO : worker thread finished; awaiting finish of 4 more threads\n",
      "2022-04-05 14:44:25,251 : INFO : worker thread finished; awaiting finish of 3 more threads\n",
      "2022-04-05 14:44:25,254 : INFO : worker thread finished; awaiting finish of 2 more threads\n",
      "2022-04-05 14:44:25,260 : INFO : worker thread finished; awaiting finish of 1 more threads\n",
      "2022-04-05 14:44:25,264 : INFO : worker thread finished; awaiting finish of 0 more threads\n",
      "2022-04-05 14:44:25,265 : INFO : EPOCH - 14 : training on 852379 raw words (593194 effective words) took 0.4s, 1580519 effective words/s\n",
      "2022-04-05 14:44:25,619 : INFO : worker thread finished; awaiting finish of 7 more threads\n",
      "2022-04-05 14:44:25,621 : INFO : worker thread finished; awaiting finish of 6 more threads\n",
      "2022-04-05 14:44:25,622 : INFO : worker thread finished; awaiting finish of 5 more threads\n",
      "2022-04-05 14:44:25,625 : INFO : worker thread finished; awaiting finish of 4 more threads\n",
      "2022-04-05 14:44:25,631 : INFO : worker thread finished; awaiting finish of 3 more threads\n",
      "2022-04-05 14:44:25,634 : INFO : worker thread finished; awaiting finish of 2 more threads\n",
      "2022-04-05 14:44:25,635 : INFO : worker thread finished; awaiting finish of 1 more threads\n",
      "2022-04-05 14:44:25,641 : INFO : worker thread finished; awaiting finish of 0 more threads\n",
      "2022-04-05 14:44:25,643 : INFO : EPOCH - 15 : training on 852379 raw words (592867 effective words) took 0.3s, 1696065 effective words/s\n",
      "2022-04-05 14:44:26,010 : INFO : worker thread finished; awaiting finish of 7 more threads\n",
      "2022-04-05 14:44:26,012 : INFO : worker thread finished; awaiting finish of 6 more threads\n",
      "2022-04-05 14:44:26,016 : INFO : worker thread finished; awaiting finish of 5 more threads\n",
      "2022-04-05 14:44:26,021 : INFO : worker thread finished; awaiting finish of 4 more threads\n",
      "2022-04-05 14:44:26,022 : INFO : worker thread finished; awaiting finish of 3 more threads\n",
      "2022-04-05 14:44:26,023 : INFO : worker thread finished; awaiting finish of 2 more threads\n",
      "2022-04-05 14:44:26,025 : INFO : worker thread finished; awaiting finish of 1 more threads\n",
      "2022-04-05 14:44:26,026 : INFO : worker thread finished; awaiting finish of 0 more threads\n",
      "2022-04-05 14:44:26,027 : INFO : EPOCH - 16 : training on 852379 raw words (592631 effective words) took 0.4s, 1592800 effective words/s\n",
      "2022-04-05 14:44:26,376 : INFO : worker thread finished; awaiting finish of 7 more threads\n",
      "2022-04-05 14:44:26,381 : INFO : worker thread finished; awaiting finish of 6 more threads\n",
      "2022-04-05 14:44:26,383 : INFO : worker thread finished; awaiting finish of 5 more threads\n",
      "2022-04-05 14:44:26,386 : INFO : worker thread finished; awaiting finish of 4 more threads\n",
      "2022-04-05 14:44:26,388 : INFO : worker thread finished; awaiting finish of 3 more threads\n",
      "2022-04-05 14:44:26,390 : INFO : worker thread finished; awaiting finish of 2 more threads\n",
      "2022-04-05 14:44:26,391 : INFO : worker thread finished; awaiting finish of 1 more threads\n",
      "2022-04-05 14:44:26,396 : INFO : worker thread finished; awaiting finish of 0 more threads\n",
      "2022-04-05 14:44:26,397 : INFO : EPOCH - 17 : training on 852379 raw words (593217 effective words) took 0.4s, 1662980 effective words/s\n",
      "2022-04-05 14:44:26,760 : INFO : worker thread finished; awaiting finish of 7 more threads\n",
      "2022-04-05 14:44:26,762 : INFO : worker thread finished; awaiting finish of 6 more threads\n",
      "2022-04-05 14:44:26,762 : INFO : worker thread finished; awaiting finish of 5 more threads\n",
      "2022-04-05 14:44:26,764 : INFO : worker thread finished; awaiting finish of 4 more threads\n",
      "2022-04-05 14:44:26,765 : INFO : worker thread finished; awaiting finish of 3 more threads\n",
      "2022-04-05 14:44:26,772 : INFO : worker thread finished; awaiting finish of 2 more threads\n",
      "2022-04-05 14:44:26,777 : INFO : worker thread finished; awaiting finish of 1 more threads\n",
      "2022-04-05 14:44:26,777 : INFO : worker thread finished; awaiting finish of 0 more threads\n",
      "2022-04-05 14:44:26,778 : INFO : EPOCH - 18 : training on 852379 raw words (593151 effective words) took 0.4s, 1617519 effective words/s\n",
      "2022-04-05 14:44:27,139 : INFO : worker thread finished; awaiting finish of 7 more threads\n",
      "2022-04-05 14:44:27,141 : INFO : worker thread finished; awaiting finish of 6 more threads\n",
      "2022-04-05 14:44:27,143 : INFO : worker thread finished; awaiting finish of 5 more threads\n",
      "2022-04-05 14:44:27,143 : INFO : worker thread finished; awaiting finish of 4 more threads\n",
      "2022-04-05 14:44:27,144 : INFO : worker thread finished; awaiting finish of 3 more threads\n"
     ]
    },
    {
     "name": "stderr",
     "output_type": "stream",
     "text": [
      "2022-04-05 14:44:27,147 : INFO : worker thread finished; awaiting finish of 2 more threads\n",
      "2022-04-05 14:44:27,149 : INFO : worker thread finished; awaiting finish of 1 more threads\n",
      "2022-04-05 14:44:27,149 : INFO : worker thread finished; awaiting finish of 0 more threads\n",
      "2022-04-05 14:44:27,150 : INFO : EPOCH - 19 : training on 852379 raw words (593202 effective words) took 0.4s, 1667233 effective words/s\n",
      "2022-04-05 14:44:27,487 : INFO : worker thread finished; awaiting finish of 7 more threads\n",
      "2022-04-05 14:44:27,489 : INFO : worker thread finished; awaiting finish of 6 more threads\n",
      "2022-04-05 14:44:27,491 : INFO : worker thread finished; awaiting finish of 5 more threads\n",
      "2022-04-05 14:44:27,492 : INFO : worker thread finished; awaiting finish of 4 more threads\n",
      "2022-04-05 14:44:27,495 : INFO : worker thread finished; awaiting finish of 3 more threads\n",
      "2022-04-05 14:44:27,499 : INFO : worker thread finished; awaiting finish of 2 more threads\n",
      "2022-04-05 14:44:27,501 : INFO : worker thread finished; awaiting finish of 1 more threads\n",
      "2022-04-05 14:44:27,502 : INFO : worker thread finished; awaiting finish of 0 more threads\n",
      "2022-04-05 14:44:27,503 : INFO : EPOCH - 20 : training on 852379 raw words (592801 effective words) took 0.3s, 1742405 effective words/s\n",
      "2022-04-05 14:44:27,843 : INFO : worker thread finished; awaiting finish of 7 more threads\n",
      "2022-04-05 14:44:27,847 : INFO : worker thread finished; awaiting finish of 6 more threads\n",
      "2022-04-05 14:44:27,850 : INFO : worker thread finished; awaiting finish of 5 more threads\n",
      "2022-04-05 14:44:27,851 : INFO : worker thread finished; awaiting finish of 4 more threads\n",
      "2022-04-05 14:44:27,853 : INFO : worker thread finished; awaiting finish of 3 more threads\n",
      "2022-04-05 14:44:27,856 : INFO : worker thread finished; awaiting finish of 2 more threads\n",
      "2022-04-05 14:44:27,858 : INFO : worker thread finished; awaiting finish of 1 more threads\n",
      "2022-04-05 14:44:27,860 : INFO : worker thread finished; awaiting finish of 0 more threads\n",
      "2022-04-05 14:44:27,861 : INFO : EPOCH - 21 : training on 852379 raw words (593648 effective words) took 0.3s, 1711696 effective words/s\n",
      "2022-04-05 14:44:28,206 : INFO : worker thread finished; awaiting finish of 7 more threads\n",
      "2022-04-05 14:44:28,209 : INFO : worker thread finished; awaiting finish of 6 more threads\n",
      "2022-04-05 14:44:28,213 : INFO : worker thread finished; awaiting finish of 5 more threads\n",
      "2022-04-05 14:44:28,215 : INFO : worker thread finished; awaiting finish of 4 more threads\n",
      "2022-04-05 14:44:28,218 : INFO : worker thread finished; awaiting finish of 3 more threads\n",
      "2022-04-05 14:44:28,223 : INFO : worker thread finished; awaiting finish of 2 more threads\n",
      "2022-04-05 14:44:28,224 : INFO : worker thread finished; awaiting finish of 1 more threads\n",
      "2022-04-05 14:44:28,228 : INFO : worker thread finished; awaiting finish of 0 more threads\n",
      "2022-04-05 14:44:28,229 : INFO : EPOCH - 22 : training on 852379 raw words (593154 effective words) took 0.4s, 1652202 effective words/s\n",
      "2022-04-05 14:44:28,560 : INFO : worker thread finished; awaiting finish of 7 more threads\n",
      "2022-04-05 14:44:28,561 : INFO : worker thread finished; awaiting finish of 6 more threads\n",
      "2022-04-05 14:44:28,563 : INFO : worker thread finished; awaiting finish of 5 more threads\n",
      "2022-04-05 14:44:28,563 : INFO : worker thread finished; awaiting finish of 4 more threads\n",
      "2022-04-05 14:44:28,565 : INFO : worker thread finished; awaiting finish of 3 more threads\n",
      "2022-04-05 14:44:28,566 : INFO : worker thread finished; awaiting finish of 2 more threads\n",
      "2022-04-05 14:44:28,567 : INFO : worker thread finished; awaiting finish of 1 more threads\n",
      "2022-04-05 14:44:28,568 : INFO : worker thread finished; awaiting finish of 0 more threads\n",
      "2022-04-05 14:44:28,569 : INFO : EPOCH - 23 : training on 852379 raw words (592488 effective words) took 0.3s, 1816843 effective words/s\n",
      "2022-04-05 14:44:28,867 : INFO : worker thread finished; awaiting finish of 7 more threads\n",
      "2022-04-05 14:44:28,874 : INFO : worker thread finished; awaiting finish of 6 more threads\n",
      "2022-04-05 14:44:28,876 : INFO : worker thread finished; awaiting finish of 5 more threads\n",
      "2022-04-05 14:44:28,880 : INFO : worker thread finished; awaiting finish of 4 more threads\n",
      "2022-04-05 14:44:28,881 : INFO : worker thread finished; awaiting finish of 3 more threads\n",
      "2022-04-05 14:44:28,882 : INFO : worker thread finished; awaiting finish of 2 more threads\n",
      "2022-04-05 14:44:28,883 : INFO : worker thread finished; awaiting finish of 1 more threads\n",
      "2022-04-05 14:44:28,884 : INFO : worker thread finished; awaiting finish of 0 more threads\n",
      "2022-04-05 14:44:28,885 : INFO : EPOCH - 24 : training on 852379 raw words (593073 effective words) took 0.3s, 1942901 effective words/s\n",
      "2022-04-05 14:44:29,206 : INFO : worker thread finished; awaiting finish of 7 more threads\n",
      "2022-04-05 14:44:29,209 : INFO : worker thread finished; awaiting finish of 6 more threads\n",
      "2022-04-05 14:44:29,214 : INFO : worker thread finished; awaiting finish of 5 more threads\n",
      "2022-04-05 14:44:29,216 : INFO : worker thread finished; awaiting finish of 4 more threads\n",
      "2022-04-05 14:44:29,217 : INFO : worker thread finished; awaiting finish of 3 more threads\n",
      "2022-04-05 14:44:29,219 : INFO : worker thread finished; awaiting finish of 2 more threads\n",
      "2022-04-05 14:44:29,222 : INFO : worker thread finished; awaiting finish of 1 more threads\n",
      "2022-04-05 14:44:29,224 : INFO : worker thread finished; awaiting finish of 0 more threads\n",
      "2022-04-05 14:44:29,224 : INFO : EPOCH - 25 : training on 852379 raw words (592912 effective words) took 0.3s, 1803984 effective words/s\n",
      "2022-04-05 14:44:29,547 : INFO : worker thread finished; awaiting finish of 7 more threads\n",
      "2022-04-05 14:44:29,551 : INFO : worker thread finished; awaiting finish of 6 more threads\n",
      "2022-04-05 14:44:29,552 : INFO : worker thread finished; awaiting finish of 5 more threads\n",
      "2022-04-05 14:44:29,554 : INFO : worker thread finished; awaiting finish of 4 more threads\n",
      "2022-04-05 14:44:29,555 : INFO : worker thread finished; awaiting finish of 3 more threads\n",
      "2022-04-05 14:44:29,560 : INFO : worker thread finished; awaiting finish of 2 more threads\n",
      "2022-04-05 14:44:29,561 : INFO : worker thread finished; awaiting finish of 1 more threads\n",
      "2022-04-05 14:44:29,565 : INFO : worker thread finished; awaiting finish of 0 more threads\n",
      "2022-04-05 14:44:29,565 : INFO : EPOCH - 26 : training on 852379 raw words (593312 effective words) took 0.3s, 1805452 effective words/s\n",
      "2022-04-05 14:44:29,899 : INFO : worker thread finished; awaiting finish of 7 more threads\n",
      "2022-04-05 14:44:29,900 : INFO : worker thread finished; awaiting finish of 6 more threads\n",
      "2022-04-05 14:44:29,905 : INFO : worker thread finished; awaiting finish of 5 more threads\n",
      "2022-04-05 14:44:29,906 : INFO : worker thread finished; awaiting finish of 4 more threads\n",
      "2022-04-05 14:44:29,911 : INFO : worker thread finished; awaiting finish of 3 more threads\n",
      "2022-04-05 14:44:29,912 : INFO : worker thread finished; awaiting finish of 2 more threads\n",
      "2022-04-05 14:44:29,913 : INFO : worker thread finished; awaiting finish of 1 more threads\n",
      "2022-04-05 14:44:29,916 : INFO : worker thread finished; awaiting finish of 0 more threads\n",
      "2022-04-05 14:44:29,916 : INFO : EPOCH - 27 : training on 852379 raw words (593435 effective words) took 0.3s, 1753644 effective words/s\n",
      "2022-04-05 14:44:30,270 : INFO : worker thread finished; awaiting finish of 7 more threads\n",
      "2022-04-05 14:44:30,271 : INFO : worker thread finished; awaiting finish of 6 more threads\n",
      "2022-04-05 14:44:30,277 : INFO : worker thread finished; awaiting finish of 5 more threads\n",
      "2022-04-05 14:44:30,278 : INFO : worker thread finished; awaiting finish of 4 more threads\n",
      "2022-04-05 14:44:30,279 : INFO : worker thread finished; awaiting finish of 3 more threads\n",
      "2022-04-05 14:44:30,280 : INFO : worker thread finished; awaiting finish of 2 more threads\n",
      "2022-04-05 14:44:30,284 : INFO : worker thread finished; awaiting finish of 1 more threads\n",
      "2022-04-05 14:44:30,286 : INFO : worker thread finished; awaiting finish of 0 more threads\n",
      "2022-04-05 14:44:30,287 : INFO : EPOCH - 28 : training on 852379 raw words (593330 effective words) took 0.4s, 1653085 effective words/s\n"
     ]
    },
    {
     "name": "stderr",
     "output_type": "stream",
     "text": [
      "2022-04-05 14:44:30,597 : INFO : worker thread finished; awaiting finish of 7 more threads\n",
      "2022-04-05 14:44:30,598 : INFO : worker thread finished; awaiting finish of 6 more threads\n",
      "2022-04-05 14:44:30,603 : INFO : worker thread finished; awaiting finish of 5 more threads\n",
      "2022-04-05 14:44:30,604 : INFO : worker thread finished; awaiting finish of 4 more threads\n",
      "2022-04-05 14:44:30,606 : INFO : worker thread finished; awaiting finish of 3 more threads\n",
      "2022-04-05 14:44:30,613 : INFO : worker thread finished; awaiting finish of 2 more threads\n",
      "2022-04-05 14:44:30,614 : INFO : worker thread finished; awaiting finish of 1 more threads\n",
      "2022-04-05 14:44:30,615 : INFO : worker thread finished; awaiting finish of 0 more threads\n",
      "2022-04-05 14:44:30,615 : INFO : EPOCH - 29 : training on 852379 raw words (593578 effective words) took 0.3s, 1875947 effective words/s\n",
      "2022-04-05 14:44:30,929 : INFO : worker thread finished; awaiting finish of 7 more threads\n",
      "2022-04-05 14:44:30,930 : INFO : worker thread finished; awaiting finish of 6 more threads\n",
      "2022-04-05 14:44:30,935 : INFO : worker thread finished; awaiting finish of 5 more threads\n",
      "2022-04-05 14:44:30,935 : INFO : worker thread finished; awaiting finish of 4 more threads\n",
      "2022-04-05 14:44:30,941 : INFO : worker thread finished; awaiting finish of 3 more threads\n",
      "2022-04-05 14:44:30,944 : INFO : worker thread finished; awaiting finish of 2 more threads\n",
      "2022-04-05 14:44:30,945 : INFO : worker thread finished; awaiting finish of 1 more threads\n",
      "2022-04-05 14:44:30,947 : INFO : worker thread finished; awaiting finish of 0 more threads\n",
      "2022-04-05 14:44:30,947 : INFO : EPOCH - 30 : training on 852379 raw words (592771 effective words) took 0.3s, 1845935 effective words/s\n",
      "2022-04-05 14:44:31,302 : INFO : worker thread finished; awaiting finish of 7 more threads\n",
      "2022-04-05 14:44:31,307 : INFO : worker thread finished; awaiting finish of 6 more threads\n",
      "2022-04-05 14:44:31,311 : INFO : worker thread finished; awaiting finish of 5 more threads\n",
      "2022-04-05 14:44:31,315 : INFO : worker thread finished; awaiting finish of 4 more threads\n",
      "2022-04-05 14:44:31,316 : INFO : worker thread finished; awaiting finish of 3 more threads\n",
      "2022-04-05 14:44:31,317 : INFO : worker thread finished; awaiting finish of 2 more threads\n",
      "2022-04-05 14:44:31,320 : INFO : worker thread finished; awaiting finish of 1 more threads\n",
      "2022-04-05 14:44:31,321 : INFO : worker thread finished; awaiting finish of 0 more threads\n",
      "2022-04-05 14:44:31,321 : INFO : EPOCH - 31 : training on 852379 raw words (592898 effective words) took 0.4s, 1625694 effective words/s\n",
      "2022-04-05 14:44:31,653 : INFO : worker thread finished; awaiting finish of 7 more threads\n",
      "2022-04-05 14:44:31,654 : INFO : worker thread finished; awaiting finish of 6 more threads\n",
      "2022-04-05 14:44:31,656 : INFO : worker thread finished; awaiting finish of 5 more threads\n",
      "2022-04-05 14:44:31,657 : INFO : worker thread finished; awaiting finish of 4 more threads\n",
      "2022-04-05 14:44:31,659 : INFO : worker thread finished; awaiting finish of 3 more threads\n",
      "2022-04-05 14:44:31,661 : INFO : worker thread finished; awaiting finish of 2 more threads\n",
      "2022-04-05 14:44:31,663 : INFO : worker thread finished; awaiting finish of 1 more threads\n",
      "2022-04-05 14:44:31,664 : INFO : worker thread finished; awaiting finish of 0 more threads\n",
      "2022-04-05 14:44:31,664 : INFO : EPOCH - 32 : training on 852379 raw words (593307 effective words) took 0.3s, 1785173 effective words/s\n",
      "2022-04-05 14:44:31,665 : INFO : Word2Vec lifecycle event {'msg': 'training on 27276128 raw words (18977947 effective words) took 11.7s, 1626875 effective words/s', 'datetime': '2022-04-05T14:44:31.665153', 'gensim': '4.1.2', 'python': '3.9.7 (tags/v3.9.7:1016ef3, Aug 30 2021, 20:19:38) [MSC v.1929 64 bit (AMD64)]', 'platform': 'Windows-10-10.0.19044-SP0', 'event': 'train'}\n"
     ]
    },
    {
     "name": "stdout",
     "output_type": "stream",
     "text": [
      "Wall time: 11.7 s\n"
     ]
    },
    {
     "data": {
      "text/plain": [
       "(18977947, 27276128)"
      ]
     },
     "execution_count": 25,
     "metadata": {},
     "output_type": "execute_result"
    }
   ],
   "source": [
    "%%time\n",
    "w2v_model.train(documents, total_examples=len(documents), epochs=W2V_EPOCH)"
   ]
  },
  {
   "cell_type": "code",
   "execution_count": 26,
   "metadata": {
    "_uuid": "27cc2651c74227115d8bfd8c40e5618048e05edd"
   },
   "outputs": [
    {
     "data": {
      "text/plain": [
       "[('appreci', 0.3604010343551636),\n",
       " ('loooov', 0.3420332670211792),\n",
       " ('lovin', 0.3192489445209503),\n",
       " ('bless', 0.3190356492996216),\n",
       " ('miss', 0.3033078610897064),\n",
       " ('amaz', 0.29797351360321045),\n",
       " ('lov', 0.29787465929985046),\n",
       " ('ador', 0.2969639003276825),\n",
       " ('awsom', 0.2839828133583069),\n",
       " ('met', 0.27615639567375183)]"
      ]
     },
     "execution_count": 26,
     "metadata": {},
     "output_type": "execute_result"
    }
   ],
   "source": [
    "w2v_model.wv.most_similar(\"love\")"
   ]
  },
  {
   "cell_type": "markdown",
   "metadata": {
    "_uuid": "e13563644468037258598637b49373ca96b9b879"
   },
   "source": [
    "### Tokenize Text"
   ]
  },
  {
   "cell_type": "code",
   "execution_count": 27,
   "metadata": {
    "_uuid": "6852bc709a7cd20173cbeeb218505078f8f37c57"
   },
   "outputs": [
    {
     "name": "stdout",
     "output_type": "stream",
     "text": [
      "Total words 33565\n",
      "Wall time: 758 ms\n"
     ]
    }
   ],
   "source": [
    "%%time\n",
    "tokenizer = Tokenizer()\n",
    "tokenizer.fit_on_texts(df_train.text)\n",
    "\n",
    "vocab_size = len(tokenizer.word_index) + 1\n",
    "print(\"Total words\", vocab_size)"
   ]
  },
  {
   "cell_type": "code",
   "execution_count": 28,
   "metadata": {
    "_uuid": "45de439df3015030c71f84c2d170346936a1d68f"
   },
   "outputs": [
    {
     "name": "stdout",
     "output_type": "stream",
     "text": [
      "Wall time: 1.72 s\n"
     ]
    }
   ],
   "source": [
    "%%time\n",
    "x_train = pad_sequences(tokenizer.texts_to_sequences(df_train.text), maxlen=SEQUENCE_LENGTH)\n",
    "x_test = pad_sequences(tokenizer.texts_to_sequences(df_test.text), maxlen=SEQUENCE_LENGTH)"
   ]
  },
  {
   "cell_type": "markdown",
   "metadata": {
    "_uuid": "03b35903fc6260e190d6928d240ef7432de117fc"
   },
   "source": [
    "### Label Encoder "
   ]
  },
  {
   "cell_type": "code",
   "execution_count": 29,
   "metadata": {
    "_uuid": "33676e0efa39e97d89bd650b8b4eae933a22fbf0"
   },
   "outputs": [
    {
     "data": {
      "text/plain": [
       "['NEGATIVE', 'POSITIVE', 'NEUTRAL']"
      ]
     },
     "execution_count": 29,
     "metadata": {},
     "output_type": "execute_result"
    }
   ],
   "source": [
    "labels = df_train.target.unique().tolist()\n",
    "labels.append(NEUTRAL)\n",
    "labels"
   ]
  },
  {
   "cell_type": "code",
   "execution_count": 30,
   "metadata": {
    "_uuid": "04239a9bef76e7922fd86098a5601dfde8ee4665"
   },
   "outputs": [
    {
     "name": "stdout",
     "output_type": "stream",
     "text": [
      "y_train (64000, 1)\n",
      "y_test (16000, 1)\n"
     ]
    }
   ],
   "source": [
    "encoder = LabelEncoder()\n",
    "encoder.fit(df_train.target.tolist())\n",
    "\n",
    "y_train = encoder.transform(df_train.target.tolist())\n",
    "y_test = encoder.transform(df_test.target.tolist())\n",
    "\n",
    "y_train = y_train.reshape(-1,1)\n",
    "y_test = y_test.reshape(-1,1)\n",
    "\n",
    "print(\"y_train\",y_train.shape)\n",
    "print(\"y_test\",y_test.shape)"
   ]
  },
  {
   "cell_type": "code",
   "execution_count": 31,
   "metadata": {
    "_uuid": "04299c886911ca135583ab64878f213939a2990c"
   },
   "outputs": [
    {
     "name": "stdout",
     "output_type": "stream",
     "text": [
      "x_train (64000, 300)\n",
      "y_train (64000, 1)\n",
      "\n",
      "x_test (16000, 300)\n",
      "y_test (16000, 1)\n"
     ]
    }
   ],
   "source": [
    "print(\"x_train\", x_train.shape)\n",
    "print(\"y_train\", y_train.shape)\n",
    "print()\n",
    "print(\"x_test\", x_test.shape)\n",
    "print(\"y_test\", y_test.shape)"
   ]
  },
  {
   "cell_type": "code",
   "execution_count": 32,
   "metadata": {
    "_uuid": "232533fb27b7be99d9b8c2f8fb22c9c6bf121a6f"
   },
   "outputs": [
    {
     "data": {
      "text/plain": [
       "array([[0],\n",
       "       [0],\n",
       "       [0],\n",
       "       [1],\n",
       "       [0],\n",
       "       [0],\n",
       "       [1],\n",
       "       [0],\n",
       "       [1],\n",
       "       [0]])"
      ]
     },
     "execution_count": 32,
     "metadata": {},
     "output_type": "execute_result"
    }
   ],
   "source": [
    "y_train[:10]"
   ]
  },
  {
   "cell_type": "markdown",
   "metadata": {
    "_uuid": "233c0ea94055a03e2e7df3e2a13d036ec963484f"
   },
   "source": [
    "### Embedding layer"
   ]
  },
  {
   "cell_type": "code",
   "execution_count": 33,
   "metadata": {
    "_uuid": "9ab488374b59e3f30f8b1ea92767d853c4846bac"
   },
   "outputs": [
    {
     "name": "stdout",
     "output_type": "stream",
     "text": [
      "(33565, 300)\n"
     ]
    }
   ],
   "source": [
    "embedding_matrix = np.zeros((vocab_size, W2V_SIZE))\n",
    "for word, i in tokenizer.word_index.items():\n",
    "  if word in w2v_model.wv:\n",
    "    embedding_matrix[i] = w2v_model.wv[word]\n",
    "print(embedding_matrix.shape)"
   ]
  },
  {
   "cell_type": "code",
   "execution_count": 34,
   "metadata": {
    "_uuid": "833279d91e4286065968237fb5f2a0c2dd4d246c"
   },
   "outputs": [],
   "source": [
    "embedding_layer = Embedding(vocab_size, W2V_SIZE, weights=[embedding_matrix], input_length=SEQUENCE_LENGTH, trainable=False)"
   ]
  },
  {
   "cell_type": "markdown",
   "metadata": {
    "_uuid": "b299ef78f94c2085942c993a2d58753a7476305a"
   },
   "source": [
    "### Build Model"
   ]
  },
  {
   "cell_type": "code",
   "execution_count": 35,
   "metadata": {
    "_uuid": "e775ef4f1b74e6412457181383c39f2df554ef3f"
   },
   "outputs": [
    {
     "name": "stdout",
     "output_type": "stream",
     "text": [
      "Model: \"sequential\"\n",
      "_________________________________________________________________\n",
      " Layer (type)                Output Shape              Param #   \n",
      "=================================================================\n",
      " embedding (Embedding)       (None, 300, 300)          10069500  \n",
      "                                                                 \n",
      " dropout (Dropout)           (None, 300, 300)          0         \n",
      "                                                                 \n",
      " lstm (LSTM)                 (None, 100)               160400    \n",
      "                                                                 \n",
      " dense (Dense)               (None, 1)                 101       \n",
      "                                                                 \n",
      "=================================================================\n",
      "Total params: 10,230,001\n",
      "Trainable params: 160,501\n",
      "Non-trainable params: 10,069,500\n",
      "_________________________________________________________________\n"
     ]
    }
   ],
   "source": [
    "model = Sequential()\n",
    "model.add(embedding_layer)\n",
    "model.add(Dropout(0.5))\n",
    "model.add(LSTM(100, dropout=0.2, recurrent_dropout=0.2))\n",
    "model.add(Dense(1, activation='sigmoid'))\n",
    "\n",
    "model.summary()"
   ]
  },
  {
   "cell_type": "markdown",
   "metadata": {
    "_uuid": "28d22eafd0c7d798dcf3d742bc92fb8577939e6c"
   },
   "source": [
    "### Compile model"
   ]
  },
  {
   "cell_type": "code",
   "execution_count": 36,
   "metadata": {
    "_uuid": "1331e08d590bb2aa2033706c8faca217afc0f1c3"
   },
   "outputs": [],
   "source": [
    "model.compile(loss='binary_crossentropy',\n",
    "              optimizer=\"adam\",\n",
    "              metrics=['accuracy'])"
   ]
  },
  {
   "cell_type": "markdown",
   "metadata": {
    "_uuid": "c7733127cb8b380e0c807268903bf4d03ef92542"
   },
   "source": [
    "### Callbacks"
   ]
  },
  {
   "cell_type": "code",
   "execution_count": 37,
   "metadata": {
    "_uuid": "a688df590386f5748da6fe00b01904fe6c71619e"
   },
   "outputs": [],
   "source": [
    "callbacks = [ ReduceLROnPlateau(monitor='val_loss', patience=5, cooldown=0),\n",
    "              EarlyStopping(monitor='val_accuracy', min_delta=1e-4, patience=5)]"
   ]
  },
  {
   "cell_type": "markdown",
   "metadata": {
    "_uuid": "8d0873633dd49179c8cae17377641b97d323ef3b"
   },
   "source": [
    "### Train"
   ]
  },
  {
   "cell_type": "code",
   "execution_count": 39,
   "metadata": {
    "_uuid": "2b659d390c6577dc5cdb6b6297934279b4e801d5"
   },
   "outputs": [
    {
     "name": "stdout",
     "output_type": "stream",
     "text": [
      "Epoch 1/8\n",
      "57/57 [==============================] - 559s 10s/step - loss: 0.4685 - accuracy: 0.7761 - val_loss: 0.4695 - val_accuracy: 0.7869 - lr: 0.0010\n",
      "Epoch 2/8\n",
      "57/57 [==============================] - 566s 10s/step - loss: 0.4640 - accuracy: 0.7789 - val_loss: 0.4692 - val_accuracy: 0.7880 - lr: 0.0010\n",
      "Epoch 3/8\n",
      "57/57 [==============================] - 548s 10s/step - loss: 0.4607 - accuracy: 0.7825 - val_loss: 0.4639 - val_accuracy: 0.7894 - lr: 0.0010\n",
      "Epoch 4/8\n",
      "57/57 [==============================] - 555s 10s/step - loss: 0.4580 - accuracy: 0.7828 - val_loss: 0.4592 - val_accuracy: 0.7933 - lr: 0.0010\n",
      "Epoch 5/8\n",
      "57/57 [==============================] - 559s 10s/step - loss: 0.4532 - accuracy: 0.7854 - val_loss: 0.4569 - val_accuracy: 0.7939 - lr: 0.0010\n",
      "Epoch 6/8\n",
      "57/57 [==============================] - 560s 10s/step - loss: 0.4483 - accuracy: 0.7881 - val_loss: 0.4494 - val_accuracy: 0.7955 - lr: 0.0010\n",
      "Epoch 7/8\n",
      "57/57 [==============================] - 565s 10s/step - loss: 0.4450 - accuracy: 0.7897 - val_loss: 0.4516 - val_accuracy: 0.7987 - lr: 0.0010\n",
      "Epoch 8/8\n",
      "57/57 [==============================] - 545s 10s/step - loss: 0.4440 - accuracy: 0.7909 - val_loss: 0.4438 - val_accuracy: 0.8006 - lr: 0.0010\n",
      "Wall time: 1h 14min 16s\n"
     ]
    }
   ],
   "source": [
    "%%time\n",
    "history = model.fit(x_train, y_train,\n",
    "                    batch_size=BATCH_SIZE,\n",
    "                    epochs=8,\n",
    "                    validation_split=0.1,\n",
    "                    verbose=1,\n",
    "                    callbacks=callbacks)"
   ]
  },
  {
   "cell_type": "markdown",
   "metadata": {
    "_uuid": "267258196d96796ac69a7b8c466314bcf5d6ee42"
   },
   "source": [
    "### Evaluate"
   ]
  },
  {
   "cell_type": "code",
   "execution_count": 40,
   "metadata": {
    "_uuid": "98ecd8f1b8b74594c3ea775dd68a094e92458022"
   },
   "outputs": [
    {
     "name": "stdout",
     "output_type": "stream",
     "text": [
      "16/16 [==============================] - 18s 1s/step - loss: 0.4503 - accuracy: 0.7944\n",
      "\n",
      "ACCURACY: 0.7944375276565552\n",
      "LOSS: 0.45034313201904297\n",
      "Wall time: 17.8 s\n"
     ]
    }
   ],
   "source": [
    "%%time\n",
    "score = model.evaluate(x_test, y_test, batch_size=BATCH_SIZE)\n",
    "print()\n",
    "print(\"ACCURACY:\",score[1])\n",
    "print(\"LOSS:\",score[0])"
   ]
  },
  {
   "cell_type": "code",
   "execution_count": 41,
   "metadata": {
    "_uuid": "40c72cd1e9d6c4fd799cbba7c813765ac4039dfc"
   },
   "outputs": [
    {
     "data": {
      "image/png": "[encoded data removed]",
      "text/plain": [
       "<Figure size 432x288 with 1 Axes>"
      ]
     },
     "metadata": {
      "needs_background": "light"
     },
     "output_type": "display_data"
    },
    {
     "data": {
      "image/png": "[encoded data removed]",
      "text/plain": [
       "<Figure size 432x288 with 1 Axes>"
      ]
     },
     "metadata": {
      "needs_background": "light"
     },
     "output_type": "display_data"
    }
   ],
   "source": [
    "acc = history.history['accuracy']\n",
    "val_acc = history.history['val_accuracy']\n",
    "loss = history.history['loss']\n",
    "val_loss = history.history['val_loss']\n",
    " \n",
    "epochs = range(len(acc))\n",
    " \n",
    "plt.plot(epochs, acc, 'b', label='Training acc')\n",
    "plt.plot(epochs, val_acc, 'r', label='Validation acc')\n",
    "plt.title('Training and validation accuracy')\n",
    "plt.legend()\n",
    " \n",
    "plt.figure()\n",
    " \n",
    "plt.plot(epochs, loss, 'b', label='Training loss')\n",
    "plt.plot(epochs, val_loss, 'r', label='Validation loss')\n",
    "plt.title('Training and validation loss')\n",
    "plt.legend()\n",
    " \n",
    "plt.show()"
   ]
  },
  {
   "cell_type": "markdown",
   "metadata": {
    "_uuid": "6bdfc0f6a6af5bebc0271d83dd7432c91001409b"
   },
   "source": [
    "### Predict"
   ]
  },
  {
   "cell_type": "code",
   "execution_count": 40,
   "metadata": {
    "_uuid": "f0b0fa3d4b1bb14b3f5e3d169a369f3ebef29ae1"
   },
   "outputs": [],
   "source": [
    "def decode_sentiment(score, include_neutral=True):\n",
    "    if include_neutral:        \n",
    "        label = NEUTRAL\n",
    "        if score <= SENTIMENT_THRESHOLDS[0]:\n",
    "            label = NEGATIVE\n",
    "        elif score >= SENTIMENT_THRESHOLDS[1]:\n",
    "            label = POSITIVE\n",
    "\n",
    "        return label\n",
    "    else:\n",
    "        return NEGATIVE if score < 0.5 else POSITIVE"
   ]
  },
  {
   "cell_type": "code",
   "execution_count": 41,
   "metadata": {
    "_uuid": "ed4086d651f2f8cbed11d3c909a8873607d29a06"
   },
   "outputs": [],
   "source": [
    "def predict(text, include_neutral=True):\n",
    "    start_at = time.time()\n",
    "    # Tokenize text\n",
    "    x_test = pad_sequences(tokenizer.texts_to_sequences([text]), maxlen=SEQUENCE_LENGTH)\n",
    "    # Predict\n",
    "    score = model.predict([x_test])[0]\n",
    "    # Decode sentiment\n",
    "    label = decode_sentiment(score, include_neutral=include_neutral)\n",
    "\n",
    "    return {\"label\": label, \"score\": float(score),\n",
    "       \"elapsed_time\": time.time()-start_at}  "
   ]
  },
  {
   "cell_type": "code",
   "execution_count": 42,
   "metadata": {
    "_uuid": "ca38b1e6c9b5acfed7467de2cf02a78333108872"
   },
   "outputs": [
    {
     "data": {
      "text/plain": [
       "{'label': 'POSITIVE',\n",
       " 'score': 0.9915658235549927,\n",
       " 'elapsed_time': 0.20718789100646973}"
      ]
     },
     "execution_count": 42,
     "metadata": {},
     "output_type": "execute_result"
    }
   ],
   "source": [
    "predict(\"I love the music\")"
   ]
  },
  {
   "cell_type": "code",
   "execution_count": 43,
   "metadata": {
    "_uuid": "0e5fe647533be0148850de349fea6ef6f71303d1"
   },
   "outputs": [
    {
     "data": {
      "text/plain": [
       "{'label': 'NEGATIVE',\n",
       " 'score': 0.009199321269989014,\n",
       " 'elapsed_time': 0.04604172706604004}"
      ]
     },
     "execution_count": 43,
     "metadata": {},
     "output_type": "execute_result"
    }
   ],
   "source": [
    "predict(\"I hate the rain\")"
   ]
  },
  {
   "cell_type": "code",
   "execution_count": 44,
   "metadata": {
    "_uuid": "37064dffcc8920d34ccd54fac7c8b50e583a8269"
   },
   "outputs": [
    {
     "data": {
      "text/plain": [
       "{'label': 'NEUTRAL',\n",
       " 'score': 0.4135376513004303,\n",
       " 'elapsed_time': 0.0470428466796875}"
      ]
     },
     "execution_count": 44,
     "metadata": {},
     "output_type": "execute_result"
    }
   ],
   "source": [
    "predict(\"The company is one hell of a choice \")"
   ]
  },
  {
   "cell_type": "markdown",
   "metadata": {
    "_uuid": "3ee72e47f84b6dbc32e02a783de5ec1661f157e1"
   },
   "source": [
    "### Confusion Matrix"
   ]
  },
  {
   "cell_type": "code",
   "execution_count": null,
   "metadata": {},
   "outputs": [],
   "source": []
  },
  {
   "cell_type": "code",
   "execution_count": 94,
   "metadata": {
    "_uuid": "0e920173eb05f04aecdd735bc5dff0f5be5f8d15"
   },
   "outputs": [
    {
     "name": "stdout",
     "output_type": "stream",
     "text": [
      "2/2 [==============================] - 9s 5s/step\n",
      "Wall time: 9.22 s\n"
     ]
    }
   ],
   "source": [
    "%%time\n",
    "y_pred_1d = []\n",
    "y_test_1d = list(df_test.target)\n",
    "scores = model.predict(x_test, verbose=1, batch_size=8000)\n",
    "y_pred_1d = [decode_sentiment(score, include_neutral=False) for score in scores]"
   ]
  },
  {
   "cell_type": "code",
   "execution_count": 95,
   "metadata": {
    "_uuid": "b3575191bb425ab871f3f41e83812ee84bb7e595"
   },
   "outputs": [],
   "source": [
    "def plot_confusion_matrix(cm, classes,\n",
    "                          title='Confusion matrix',\n",
    "                          cmap=plt.cm.Blues):\n",
    "    \"\"\"\n",
    "    This function prints and plots the confusion matrix.\n",
    "    Normalization can be applied by setting `normalize=True`.\n",
    "    \"\"\"\n",
    "\n",
    "    cm = cm.astype('float') / cm.sum(axis=1)[:, np.newaxis]\n",
    "\n",
    "    plt.imshow(cm, interpolation='nearest', cmap=cmap)\n",
    "    plt.title(title, fontsize=30)\n",
    "    plt.colorbar()\n",
    "    tick_marks = np.arange(len(classes))\n",
    "    plt.xticks(tick_marks, classes, rotation=90, fontsize=22)\n",
    "    plt.yticks(tick_marks, classes, fontsize=22)\n",
    "\n",
    "    fmt = '.2f'\n",
    "    thresh = cm.max() / 2.\n",
    "    for i, j in itertools.product(range(cm.shape[0]), range(cm.shape[1])):\n",
    "        plt.text(j, i, format(cm[i, j], fmt),\n",
    "                 horizontalalignment=\"center\",\n",
    "                 color=\"white\" if cm[i, j] > thresh else \"black\")\n",
    "\n",
    "    plt.ylabel('True label', fontsize=25)\n",
    "    plt.xlabel('Predicted label', fontsize=25)"
   ]
  },
  {
   "cell_type": "code",
   "execution_count": 96,
   "metadata": {
    "_uuid": "a57dc6f6211c144491a70f533225edfa95a2dc66"
   },
   "outputs": [
    {
     "data": {
      "image/png": "[encoded data removed]",
      "text/plain": [
       "<Figure size 864x864 with 2 Axes>"
      ]
     },
     "metadata": {
      "needs_background": "light"
     },
     "output_type": "display_data"
    },
    {
     "name": "stdout",
     "output_type": "stream",
     "text": [
      "Wall time: 200 ms\n"
     ]
    }
   ],
   "source": [
    "%%time\n",
    "\n",
    "cnf_matrix = confusion_matrix(y_test_1d, y_pred_1d)\n",
    "plt.figure(figsize=(12,12))\n",
    "plot_confusion_matrix(cnf_matrix, classes=df_train.target.unique(), title=\"Confusion matrix\")\n",
    "plt.show()"
   ]
  },
  {
   "cell_type": "markdown",
   "metadata": {
    "_uuid": "e23b957348dcc084249d3cc7538b972da471c2cd"
   },
   "source": [
    "### Classification Report"
   ]
  },
  {
   "cell_type": "code",
   "execution_count": 97,
   "metadata": {
    "_uuid": "a7fe05b7caa1c984ff1deb0be2f7c6bc043df9f5"
   },
   "outputs": [
    {
     "name": "stdout",
     "output_type": "stream",
     "text": [
      "              precision    recall  f1-score   support\n",
      "\n",
      "    NEGATIVE       0.78      0.77      0.77      7979\n",
      "    POSITIVE       0.77      0.78      0.78      8021\n",
      "\n",
      "    accuracy                           0.77     16000\n",
      "   macro avg       0.78      0.77      0.77     16000\n",
      "weighted avg       0.78      0.77      0.77     16000\n",
      "\n"
     ]
    }
   ],
   "source": [
    "print(classification_report(y_test_1d, y_pred_1d))"
   ]
  },
  {
   "cell_type": "markdown",
   "metadata": {
    "_uuid": "4eb300f0c6693a618587c7dcf32f77f5416cbfb9"
   },
   "source": [
    "### Accuracy Score"
   ]
  },
  {
   "cell_type": "code",
   "execution_count": 98,
   "metadata": {
    "_uuid": "5cf76e6e09f8a60ed25947932b94c772eda44d23"
   },
   "outputs": [
    {
     "data": {
      "text/plain": [
       "0.7749375"
      ]
     },
     "execution_count": 98,
     "metadata": {},
     "output_type": "execute_result"
    }
   ],
   "source": [
    "accuracy_score(y_test_1d, y_pred_1d)"
   ]
  },
  {
   "cell_type": "markdown",
   "metadata": {
    "_uuid": "4f014c32f3833db282e1a075c526604f34e3158c"
   },
   "source": [
    "### Save model"
   ]
  },
  {
   "cell_type": "code",
   "execution_count": 50,
   "metadata": {
    "_uuid": "3b2b3ad5b592977b404acfa1c9ad303a62837255"
   },
   "outputs": [
    {
     "name": "stderr",
     "output_type": "stream",
     "text": [
      "2022-04-02 12:42:00,840 : INFO : Word2Vec lifecycle event {'fname_or_handle': 'model.w2v', 'separately': 'None', 'sep_limit': 10485760, 'ignore': frozenset(), 'datetime': '2022-04-02T12:42:00.840883', 'gensim': '4.1.2', 'python': '3.9.7 (tags/v3.9.7:1016ef3, Aug 30 2021, 20:19:38) [MSC v.1929 64 bit (AMD64)]', 'platform': 'Windows-10-10.0.19044-SP0', 'event': 'saving'}\n",
      "2022-04-02 12:42:00,842 : INFO : not storing attribute cum_table\n",
      "2022-04-02 12:42:01,125 : INFO : saved model.w2v\n"
     ]
    }
   ],
   "source": [
    "#Remember to specify name!!!!\n",
    "#Remember to save the hard-calculated lemmatization!!!!!\n",
    "\n",
    "model.save(KERAS_MODEL)\n",
    "w2v_model.save(WORD2VEC_MODEL)\n",
    "pickle.dump(tokenizer, open(TOKENIZER_MODEL, \"wb\"), protocol=0)\n",
    "pickle.dump(encoder, open(ENCODER_MODEL, \"wb\"), protocol=0)"
   ]
  },
  {
   "cell_type": "code",
   "execution_count": null,
   "metadata": {
    "_uuid": "cc363c54782894757f5ea8820c6a170f2e16ef93"
   },
   "outputs": [],
   "source": []
  }
 ],
 "metadata": {
  "kernelspec": {
   "display_name": "Python 3",
   "language": "python",
   "name": "python3"
  },
  "language_info": {
   "codemirror_mode": {
    "name": "ipython",
    "version": 3
   },
   "file_extension": ".py",
   "mimetype": "text/x-python",
   "name": "python",
   "nbconvert_exporter": "python",
   "pygments_lexer": "ipython3",
   "version": "3.9.7"
  }
 },
 "nbformat": 4,
 "nbformat_minor": 1
}
